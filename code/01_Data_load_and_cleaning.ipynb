{
 "cells": [
  {
   "cell_type": "markdown",
   "id": "b0305212",
   "metadata": {},
   "source": [
    "## 01 Data loading and cleaning"
   ]
  },
  {
   "cell_type": "code",
   "execution_count": 1,
   "id": "99b7e3de",
   "metadata": {},
   "outputs": [],
   "source": [
    "# the imports\n",
    "import pandas as pd\n",
    "import numpy as np"
   ]
  },
  {
   "cell_type": "code",
   "execution_count": 2,
   "id": "60fea7e6",
   "metadata": {},
   "outputs": [],
   "source": [
    "#loading the data\n",
    "df = pd.read_csv('../data/final.csv')\n",
    "df_cops = pd.read_csv('../data/2010_police_num_by_county.csv')\n",
    "df_people = pd.read_csv('../data/people.csv')\n",
    "\n",
    "pd.set_option('display.max_columns', 35)"
   ]
  },
  {
   "cell_type": "code",
   "execution_count": 3,
   "id": "d96f046f",
   "metadata": {},
   "outputs": [
    {
     "data": {
      "text/plain": [
       "(3150, 23)"
      ]
     },
     "execution_count": 3,
     "metadata": {},
     "output_type": "execute_result"
    }
   ],
   "source": [
    "#checking on the data amount\n",
    "df.shape"
   ]
  },
  {
   "cell_type": "code",
   "execution_count": 4,
   "id": "1c6cd6b9",
   "metadata": {},
   "outputs": [
    {
     "data": {
      "text/plain": [
       "(3034, 4)"
      ]
     },
     "execution_count": 4,
     "metadata": {},
     "output_type": "execute_result"
    }
   ],
   "source": [
    "#checking on the data amount\n",
    "df_cops.shape"
   ]
  },
  {
   "cell_type": "code",
   "execution_count": 5,
   "id": "3484c419",
   "metadata": {},
   "outputs": [
    {
     "data": {
      "text/plain": [
       "(3212, 7)"
      ]
     },
     "execution_count": 5,
     "metadata": {},
     "output_type": "execute_result"
    }
   ],
   "source": [
    "#checking on the data amount\n",
    "df_people.shape"
   ]
  },
  {
   "cell_type": "code",
   "execution_count": 6,
   "id": "68e37aef",
   "metadata": {
    "scrolled": false
   },
   "outputs": [
    {
     "data": {
      "text/html": [
       "<div>\n",
       "<style scoped>\n",
       "    .dataframe tbody tr th:only-of-type {\n",
       "        vertical-align: middle;\n",
       "    }\n",
       "\n",
       "    .dataframe tbody tr th {\n",
       "        vertical-align: top;\n",
       "    }\n",
       "\n",
       "    .dataframe thead th {\n",
       "        text-align: right;\n",
       "    }\n",
       "</style>\n",
       "<table border=\"1\" class=\"dataframe\">\n",
       "  <thead>\n",
       "    <tr style=\"text-align: right;\">\n",
       "      <th></th>\n",
       "      <th>state</th>\n",
       "      <th>fips</th>\n",
       "      <th>county_name</th>\n",
       "      <th>unemployment_rate_2010</th>\n",
       "      <th>population_total_2010</th>\n",
       "      <th>urban_population_prc</th>\n",
       "      <th>rural_population_prc</th>\n",
       "      <th>crime_per_capita</th>\n",
       "      <th>per_capita_sme_num</th>\n",
       "      <th>per_capita_large_num</th>\n",
       "      <th>avg_ann_pay_per_emp_sme</th>\n",
       "      <th>avg_ann_pay_per_emp_large</th>\n",
       "      <th>avg_ann_pay_per_emp_total</th>\n",
       "      <th>population_jail_prc</th>\n",
       "      <th>2008_dem_%_vote</th>\n",
       "      <th>2008_rep_%_vote</th>\n",
       "      <th>2008_other_%_vote</th>\n",
       "      <th>smoke_percent_2010</th>\n",
       "      <th>popul_hs_grad_prc</th>\n",
       "      <th>popul_college_grad_prc</th>\n",
       "      <th>popul_single_paren_prc</th>\n",
       "      <th>liquor_stores_per10k</th>\n",
       "      <th>foreign_key</th>\n",
       "    </tr>\n",
       "  </thead>\n",
       "  <tbody>\n",
       "    <tr>\n",
       "      <th>72</th>\n",
       "      <td>AK</td>\n",
       "      <td>NaN</td>\n",
       "      <td>Chugach</td>\n",
       "      <td>NaN</td>\n",
       "      <td>NaN</td>\n",
       "      <td>#DIV/0!</td>\n",
       "      <td>#DIV/0!</td>\n",
       "      <td>#DIV/0!</td>\n",
       "      <td>#DIV/0!</td>\n",
       "      <td>#DIV/0!</td>\n",
       "      <td>#DIV/0!</td>\n",
       "      <td>#DIV/0!</td>\n",
       "      <td>#DIV/0!</td>\n",
       "      <td>#DIV/0!</td>\n",
       "      <td>0</td>\n",
       "      <td>0</td>\n",
       "      <td>0</td>\n",
       "      <td>NaN</td>\n",
       "      <td>NaN</td>\n",
       "      <td>NaN</td>\n",
       "      <td>NaN</td>\n",
       "      <td>NaN</td>\n",
       "      <td>Alaska Chugach</td>\n",
       "    </tr>\n",
       "    <tr>\n",
       "      <th>73</th>\n",
       "      <td>AK</td>\n",
       "      <td>NaN</td>\n",
       "      <td>Copper River</td>\n",
       "      <td>NaN</td>\n",
       "      <td>NaN</td>\n",
       "      <td>#DIV/0!</td>\n",
       "      <td>#DIV/0!</td>\n",
       "      <td>#DIV/0!</td>\n",
       "      <td>#DIV/0!</td>\n",
       "      <td>#DIV/0!</td>\n",
       "      <td>#DIV/0!</td>\n",
       "      <td>#DIV/0!</td>\n",
       "      <td>#DIV/0!</td>\n",
       "      <td>#DIV/0!</td>\n",
       "      <td>0</td>\n",
       "      <td>0</td>\n",
       "      <td>0</td>\n",
       "      <td>NaN</td>\n",
       "      <td>NaN</td>\n",
       "      <td>NaN</td>\n",
       "      <td>NaN</td>\n",
       "      <td>NaN</td>\n",
       "      <td>Alaska Copper River</td>\n",
       "    </tr>\n",
       "    <tr>\n",
       "      <th>1603</th>\n",
       "      <td>NaN</td>\n",
       "      <td>NaN</td>\n",
       "      <td>NaN</td>\n",
       "      <td>NaN</td>\n",
       "      <td>NaN</td>\n",
       "      <td>#DIV/0!</td>\n",
       "      <td>#DIV/0!</td>\n",
       "      <td>#DIV/0!</td>\n",
       "      <td>#DIV/0!</td>\n",
       "      <td>#DIV/0!</td>\n",
       "      <td>#DIV/0!</td>\n",
       "      <td>#DIV/0!</td>\n",
       "      <td>#DIV/0!</td>\n",
       "      <td>#DIV/0!</td>\n",
       "      <td>#DIV/0!</td>\n",
       "      <td>#DIV/0!</td>\n",
       "      <td>#DIV/0!</td>\n",
       "      <td>NaN</td>\n",
       "      <td>NaN</td>\n",
       "      <td>NaN</td>\n",
       "      <td>NaN</td>\n",
       "      <td>NaN</td>\n",
       "      <td>NaN</td>\n",
       "    </tr>\n",
       "  </tbody>\n",
       "</table>\n",
       "</div>"
      ],
      "text/plain": [
       "     state  fips   county_name  unemployment_rate_2010 population_total_2010  \\\n",
       "72      AK   NaN       Chugach                     NaN                   NaN   \n",
       "73      AK   NaN  Copper River                     NaN                   NaN   \n",
       "1603   NaN   NaN           NaN                     NaN                   NaN   \n",
       "\n",
       "     urban_population_prc rural_population_prc crime_per_capita  \\\n",
       "72                #DIV/0!              #DIV/0!          #DIV/0!   \n",
       "73                #DIV/0!              #DIV/0!          #DIV/0!   \n",
       "1603              #DIV/0!              #DIV/0!          #DIV/0!   \n",
       "\n",
       "     per_capita_sme_num per_capita_large_num avg_ann_pay_per_emp_sme  \\\n",
       "72              #DIV/0!              #DIV/0!                 #DIV/0!   \n",
       "73              #DIV/0!              #DIV/0!                 #DIV/0!   \n",
       "1603            #DIV/0!              #DIV/0!                 #DIV/0!   \n",
       "\n",
       "     avg_ann_pay_per_emp_large avg_ann_pay_per_emp_total population_jail_prc  \\\n",
       "72                     #DIV/0!                   #DIV/0!             #DIV/0!   \n",
       "73                     #DIV/0!                   #DIV/0!             #DIV/0!   \n",
       "1603                   #DIV/0!                   #DIV/0!             #DIV/0!   \n",
       "\n",
       "     2008_dem_%_vote 2008_rep_%_vote 2008_other_%_vote  smoke_percent_2010  \\\n",
       "72                 0               0                 0                 NaN   \n",
       "73                 0               0                 0                 NaN   \n",
       "1603         #DIV/0!         #DIV/0!           #DIV/0!                 NaN   \n",
       "\n",
       "      popul_hs_grad_prc  popul_college_grad_prc  popul_single_paren_prc  \\\n",
       "72                  NaN                     NaN                     NaN   \n",
       "73                  NaN                     NaN                     NaN   \n",
       "1603                NaN                     NaN                     NaN   \n",
       "\n",
       "      liquor_stores_per10k          foreign_key  \n",
       "72                     NaN       Alaska Chugach  \n",
       "73                     NaN  Alaska Copper River  \n",
       "1603                   NaN                  NaN  "
      ]
     },
     "execution_count": 6,
     "metadata": {},
     "output_type": "execute_result"
    }
   ],
   "source": [
    "df[df['fips'].isna()]"
   ]
  },
  {
   "cell_type": "code",
   "execution_count": 7,
   "id": "2bc86ecb",
   "metadata": {},
   "outputs": [],
   "source": [
    "df.drop([72, 73, 1603], axis=0, inplace=True)"
   ]
  },
  {
   "cell_type": "code",
   "execution_count": 8,
   "id": "079359d9",
   "metadata": {},
   "outputs": [
    {
     "data": {
      "text/plain": [
       "(3147, 34)"
      ]
     },
     "execution_count": 8,
     "metadata": {},
     "output_type": "execute_result"
    }
   ],
   "source": [
    "#merging the databases together and cleaning the NA values\n",
    "df = pd.merge(df, df_cops, how='left', left_on='foreign_key', right_on='foreign_police')\n",
    "\n",
    "df = pd.merge(df, df_people, how='left', left_on='fips', right_on='FIPS_people')\n",
    "\n",
    "df.shape"
   ]
  },
  {
   "cell_type": "code",
   "execution_count": 9,
   "id": "90a084d1",
   "metadata": {},
   "outputs": [],
   "source": [
    "#dropping unnecessary columns from dataframe merging\n",
    "df = df.drop(columns=['fips', 'foreign_key', 'state_police', 'county_police', 'foreign_police', 'FIPS_people'])"
   ]
  },
  {
   "cell_type": "code",
   "execution_count": 10,
   "id": "92d975b2",
   "metadata": {},
   "outputs": [],
   "source": [
    "#cleaning the data of unnecessary symbols\n",
    "j=[]\n",
    "for i in df['population_total_2010']:\n",
    "    if not type(i) == float:\n",
    "        j.append(i.replace(',', ''))\n",
    "    else:\n",
    "        j.append(i)\n",
    "df['population_total_2010'] = j\n",
    "\n",
    "k=[]\n",
    "for m in df['number_police']:\n",
    "    if not type(m) == float:\n",
    "        k.append(m.replace(',', ''))\n",
    "    else:\n",
    "        k.append(m)\n",
    "df['number_police'] = k"
   ]
  },
  {
   "cell_type": "code",
   "execution_count": 11,
   "id": "7435c6b2",
   "metadata": {},
   "outputs": [],
   "source": [
    "#cleaning the data of non numeric values\n",
    "cols = ['avg_ann_pay_per_emp_large', 'avg_ann_pay_per_emp_sme', 'avg_ann_pay_per_emp_total', '2008_dem_%_vote', '2008_rep_%_vote', '2008_other_%_vote']\n",
    "for i in cols:\n",
    "    df[i] = [txt if txt != '#DIV/0!' else np.nan for txt in df[i]]"
   ]
  },
  {
   "cell_type": "code",
   "execution_count": 12,
   "id": "d43fc3bb",
   "metadata": {},
   "outputs": [],
   "source": [
    "#changing the datatypes\n",
    "col_names = list(df.columns)\n",
    "col_names = [i for i in col_names if not i in ['state', 'county_name']]\n",
    "\n",
    "for b in col_names:\n",
    "    try:\n",
    "        df[b] = df[b].astype(float)\n",
    "    except:\n",
    "        pass"
   ]
  },
  {
   "cell_type": "code",
   "execution_count": 13,
   "id": "18c24dc5",
   "metadata": {
    "scrolled": true
   },
   "outputs": [],
   "source": [
    "cols = ['urban_population_prc', 'rural_population_prc', 'crime_per_capita', 'per_capita_sme_num', 'per_capita_large_num', 'population_jail_prc']\n",
    "for col in cols:\n",
    "    df[col] = [txt if txt != '#DIV/0!' else np.nan for txt in df[col]]\n",
    "for i in list(df.columns):\n",
    "    try:\n",
    "        df[i] = df[i].astype(float)\n",
    "    except:\n",
    "        pass"
   ]
  },
  {
   "cell_type": "code",
   "execution_count": 14,
   "id": "951a8235",
   "metadata": {},
   "outputs": [
    {
     "data": {
      "text/plain": [
       "state                                object\n",
       "county_name                          object\n",
       "unemployment_rate_2010              float64\n",
       "population_total_2010               float64\n",
       "urban_population_prc                float64\n",
       "rural_population_prc                float64\n",
       "crime_per_capita                    float64\n",
       "per_capita_sme_num                  float64\n",
       "per_capita_large_num                float64\n",
       "avg_ann_pay_per_emp_sme             float64\n",
       "avg_ann_pay_per_emp_large           float64\n",
       "avg_ann_pay_per_emp_total           float64\n",
       "population_jail_prc                 float64\n",
       "2008_dem_%_vote                     float64\n",
       "2008_rep_%_vote                     float64\n",
       "2008_other_%_vote                   float64\n",
       "smoke_percent_2010                  float64\n",
       "popul_hs_grad_prc                   float64\n",
       "popul_college_grad_prc              float64\n",
       "popul_single_paren_prc              float64\n",
       "liquor_stores_per10k                float64\n",
       "number_police                       float64\n",
       "WhiteNonHispanicPct2010             float64\n",
       "BlackNonHispanicPct2010             float64\n",
       "AsianNonHispanicPct2010             float64\n",
       "NativeAmericanNonHispanicPct2010    float64\n",
       "HispanicPct2010                     float64\n",
       "MultipleRacePct2010                 float64\n",
       "dtype: object"
      ]
     },
     "execution_count": 14,
     "metadata": {},
     "output_type": "execute_result"
    }
   ],
   "source": [
    "df.dtypes"
   ]
  },
  {
   "cell_type": "code",
   "execution_count": 15,
   "id": "29497e50",
   "metadata": {},
   "outputs": [],
   "source": [
    "#derriving average values by state to fill in the NA cells\n",
    "avg_val = df.groupby('state').mean()\n",
    "\n",
    "for i in list(df.columns):\n",
    "    df[i] = df[i].astype(str)"
   ]
  },
  {
   "cell_type": "code",
   "execution_count": 16,
   "id": "8749d78d",
   "metadata": {},
   "outputs": [
    {
     "data": {
      "text/html": [
       "<div>\n",
       "<style scoped>\n",
       "    .dataframe tbody tr th:only-of-type {\n",
       "        vertical-align: middle;\n",
       "    }\n",
       "\n",
       "    .dataframe tbody tr th {\n",
       "        vertical-align: top;\n",
       "    }\n",
       "\n",
       "    .dataframe thead th {\n",
       "        text-align: right;\n",
       "    }\n",
       "</style>\n",
       "<table border=\"1\" class=\"dataframe\">\n",
       "  <thead>\n",
       "    <tr style=\"text-align: right;\">\n",
       "      <th></th>\n",
       "      <th>unemployment_rate_2010</th>\n",
       "      <th>population_total_2010</th>\n",
       "      <th>urban_population_prc</th>\n",
       "      <th>rural_population_prc</th>\n",
       "      <th>crime_per_capita</th>\n",
       "      <th>per_capita_sme_num</th>\n",
       "      <th>per_capita_large_num</th>\n",
       "      <th>avg_ann_pay_per_emp_sme</th>\n",
       "      <th>avg_ann_pay_per_emp_large</th>\n",
       "      <th>avg_ann_pay_per_emp_total</th>\n",
       "      <th>population_jail_prc</th>\n",
       "      <th>2008_dem_%_vote</th>\n",
       "      <th>2008_rep_%_vote</th>\n",
       "      <th>2008_other_%_vote</th>\n",
       "      <th>smoke_percent_2010</th>\n",
       "      <th>popul_hs_grad_prc</th>\n",
       "      <th>popul_college_grad_prc</th>\n",
       "      <th>popul_single_paren_prc</th>\n",
       "      <th>liquor_stores_per10k</th>\n",
       "      <th>number_police</th>\n",
       "      <th>WhiteNonHispanicPct2010</th>\n",
       "      <th>BlackNonHispanicPct2010</th>\n",
       "      <th>AsianNonHispanicPct2010</th>\n",
       "      <th>NativeAmericanNonHispanicPct2010</th>\n",
       "      <th>HispanicPct2010</th>\n",
       "      <th>MultipleRacePct2010</th>\n",
       "    </tr>\n",
       "    <tr>\n",
       "      <th>state</th>\n",
       "      <th></th>\n",
       "      <th></th>\n",
       "      <th></th>\n",
       "      <th></th>\n",
       "      <th></th>\n",
       "      <th></th>\n",
       "      <th></th>\n",
       "      <th></th>\n",
       "      <th></th>\n",
       "      <th></th>\n",
       "      <th></th>\n",
       "      <th></th>\n",
       "      <th></th>\n",
       "      <th></th>\n",
       "      <th></th>\n",
       "      <th></th>\n",
       "      <th></th>\n",
       "      <th></th>\n",
       "      <th></th>\n",
       "      <th></th>\n",
       "      <th></th>\n",
       "      <th></th>\n",
       "      <th></th>\n",
       "      <th></th>\n",
       "      <th></th>\n",
       "      <th></th>\n",
       "    </tr>\n",
       "  </thead>\n",
       "  <tbody>\n",
       "    <tr>\n",
       "      <th>AK</th>\n",
       "      <td>10.762069</td>\n",
       "      <td>24490.724138</td>\n",
       "      <td>0.235056</td>\n",
       "      <td>0.804550</td>\n",
       "      <td>0.004191</td>\n",
       "      <td>0.021140</td>\n",
       "      <td>0.001848</td>\n",
       "      <td>65273.797475</td>\n",
       "      <td>58940.338911</td>\n",
       "      <td>49221.093286</td>\n",
       "      <td>0.000622</td>\n",
       "      <td>0.000000</td>\n",
       "      <td>0.000000</td>\n",
       "      <td>0.000000</td>\n",
       "      <td>27.530526</td>\n",
       "      <td>63.923077</td>\n",
       "      <td>18.555556</td>\n",
       "      <td>12.518519</td>\n",
       "      <td>2.885185</td>\n",
       "      <td>NaN</td>\n",
       "      <td>NaN</td>\n",
       "      <td>NaN</td>\n",
       "      <td>NaN</td>\n",
       "      <td>NaN</td>\n",
       "      <td>NaN</td>\n",
       "      <td>NaN</td>\n",
       "    </tr>\n",
       "    <tr>\n",
       "      <th>AL</th>\n",
       "      <td>12.150746</td>\n",
       "      <td>71339.343284</td>\n",
       "      <td>0.329139</td>\n",
       "      <td>0.670861</td>\n",
       "      <td>0.002948</td>\n",
       "      <td>0.014109</td>\n",
       "      <td>0.001842</td>\n",
       "      <td>28469.141502</td>\n",
       "      <td>36807.208207</td>\n",
       "      <td>32008.140105</td>\n",
       "      <td>0.003516</td>\n",
       "      <td>0.382693</td>\n",
       "      <td>0.608365</td>\n",
       "      <td>0.008943</td>\n",
       "      <td>26.353731</td>\n",
       "      <td>65.343284</td>\n",
       "      <td>14.880597</td>\n",
       "      <td>10.462687</td>\n",
       "      <td>0.701493</td>\n",
       "      <td>87.25</td>\n",
       "      <td>66.10194</td>\n",
       "      <td>28.250896</td>\n",
       "      <td>0.571343</td>\n",
       "      <td>0.639552</td>\n",
       "      <td>3.190299</td>\n",
       "      <td>1.34403</td>\n",
       "    </tr>\n",
       "  </tbody>\n",
       "</table>\n",
       "</div>"
      ],
      "text/plain": [
       "       unemployment_rate_2010  population_total_2010  urban_population_prc  \\\n",
       "state                                                                        \n",
       "AK                  10.762069           24490.724138              0.235056   \n",
       "AL                  12.150746           71339.343284              0.329139   \n",
       "\n",
       "       rural_population_prc  crime_per_capita  per_capita_sme_num  \\\n",
       "state                                                               \n",
       "AK                 0.804550          0.004191            0.021140   \n",
       "AL                 0.670861          0.002948            0.014109   \n",
       "\n",
       "       per_capita_large_num  avg_ann_pay_per_emp_sme  \\\n",
       "state                                                  \n",
       "AK                 0.001848             65273.797475   \n",
       "AL                 0.001842             28469.141502   \n",
       "\n",
       "       avg_ann_pay_per_emp_large  avg_ann_pay_per_emp_total  \\\n",
       "state                                                         \n",
       "AK                  58940.338911               49221.093286   \n",
       "AL                  36807.208207               32008.140105   \n",
       "\n",
       "       population_jail_prc  2008_dem_%_vote  2008_rep_%_vote  \\\n",
       "state                                                          \n",
       "AK                0.000622         0.000000         0.000000   \n",
       "AL                0.003516         0.382693         0.608365   \n",
       "\n",
       "       2008_other_%_vote  smoke_percent_2010  popul_hs_grad_prc  \\\n",
       "state                                                             \n",
       "AK              0.000000           27.530526          63.923077   \n",
       "AL              0.008943           26.353731          65.343284   \n",
       "\n",
       "       popul_college_grad_prc  popul_single_paren_prc  liquor_stores_per10k  \\\n",
       "state                                                                         \n",
       "AK                  18.555556               12.518519              2.885185   \n",
       "AL                  14.880597               10.462687              0.701493   \n",
       "\n",
       "       number_police  WhiteNonHispanicPct2010  BlackNonHispanicPct2010  \\\n",
       "state                                                                    \n",
       "AK               NaN                      NaN                      NaN   \n",
       "AL             87.25                 66.10194                28.250896   \n",
       "\n",
       "       AsianNonHispanicPct2010  NativeAmericanNonHispanicPct2010  \\\n",
       "state                                                              \n",
       "AK                         NaN                               NaN   \n",
       "AL                    0.571343                          0.639552   \n",
       "\n",
       "       HispanicPct2010  MultipleRacePct2010  \n",
       "state                                        \n",
       "AK                 NaN                  NaN  \n",
       "AL            3.190299              1.34403  "
      ]
     },
     "execution_count": 16,
     "metadata": {},
     "output_type": "execute_result"
    }
   ],
   "source": [
    "avg_val.head(2)"
   ]
  },
  {
   "cell_type": "code",
   "execution_count": 17,
   "id": "8e9d5996",
   "metadata": {},
   "outputs": [],
   "source": [
    "#filling in the NA cells\n",
    "for i in list(df.columns):\n",
    "    for j in list(df.index):\n",
    "        if df.loc[j,i] == 'nan':\n",
    "            state = df.loc[j,:]['state']\n",
    "            var = avg_val[avg_val.index == state][i]\n",
    "            df.loc[j,i] = var[0]"
   ]
  },
  {
   "cell_type": "code",
   "execution_count": 18,
   "id": "22d76beb",
   "metadata": {},
   "outputs": [
    {
     "data": {
      "text/plain": [
       "(3147, 28)"
      ]
     },
     "execution_count": 18,
     "metadata": {},
     "output_type": "execute_result"
    }
   ],
   "source": [
    "df.shape"
   ]
  },
  {
   "cell_type": "code",
   "execution_count": 19,
   "id": "ae7704a0",
   "metadata": {},
   "outputs": [],
   "source": [
    "#cleaning more NAs\n",
    "df = df.dropna()"
   ]
  },
  {
   "cell_type": "code",
   "execution_count": 21,
   "id": "cc0a48b2",
   "metadata": {
    "scrolled": true
   },
   "outputs": [],
   "source": [
    "for col in list(df.columns):\n",
    "    try:\n",
    "        df[col] = df[col].astype(float)\n",
    "    except:\n",
    "        pass"
   ]
  },
  {
   "cell_type": "code",
   "execution_count": 22,
   "id": "d4c5252a",
   "metadata": {
    "scrolled": true
   },
   "outputs": [
    {
     "data": {
      "text/plain": [
       "state                                object\n",
       "county_name                          object\n",
       "unemployment_rate_2010              float64\n",
       "population_total_2010               float64\n",
       "urban_population_prc                float64\n",
       "rural_population_prc                float64\n",
       "crime_per_capita                    float64\n",
       "per_capita_sme_num                  float64\n",
       "per_capita_large_num                float64\n",
       "avg_ann_pay_per_emp_sme             float64\n",
       "avg_ann_pay_per_emp_large           float64\n",
       "avg_ann_pay_per_emp_total           float64\n",
       "population_jail_prc                 float64\n",
       "2008_dem_%_vote                     float64\n",
       "2008_rep_%_vote                     float64\n",
       "2008_other_%_vote                   float64\n",
       "smoke_percent_2010                  float64\n",
       "popul_hs_grad_prc                   float64\n",
       "popul_college_grad_prc              float64\n",
       "popul_single_paren_prc              float64\n",
       "liquor_stores_per10k                float64\n",
       "number_police                       float64\n",
       "WhiteNonHispanicPct2010             float64\n",
       "BlackNonHispanicPct2010             float64\n",
       "AsianNonHispanicPct2010             float64\n",
       "NativeAmericanNonHispanicPct2010    float64\n",
       "HispanicPct2010                     float64\n",
       "MultipleRacePct2010                 float64\n",
       "dtype: object"
      ]
     },
     "execution_count": 22,
     "metadata": {},
     "output_type": "execute_result"
    }
   ],
   "source": [
    "df.dtypes"
   ]
  },
  {
   "cell_type": "code",
   "execution_count": 23,
   "id": "4ccd42f4",
   "metadata": {
    "scrolled": true
   },
   "outputs": [],
   "source": [
    "#creating a per_capita_police columns out of population totals and number of police\n",
    "per_capita_police = df['number_police'] / df['population_total_2010']\n",
    "\n",
    "police_1000 = per_capita_police * 1000\n",
    "\n",
    "df = df.rename(columns={'number_police': 'police_per_1000'})\n",
    "\n",
    "df['police_per_1000'] = police_1000"
   ]
  },
  {
   "cell_type": "code",
   "execution_count": 24,
   "id": "4bda134e",
   "metadata": {},
   "outputs": [],
   "source": [
    "for i in ['smoke_percent_2010', 'popul_hs_grad_prc', 'popul_college_grad_prc', 'popul_single_paren_prc']:\n",
    "    df[i] = df[i] / 100"
   ]
  },
  {
   "cell_type": "code",
   "execution_count": 25,
   "id": "b4c0c3f4",
   "metadata": {
    "scrolled": true
   },
   "outputs": [
    {
     "data": {
      "text/html": [
       "<div>\n",
       "<style scoped>\n",
       "    .dataframe tbody tr th:only-of-type {\n",
       "        vertical-align: middle;\n",
       "    }\n",
       "\n",
       "    .dataframe tbody tr th {\n",
       "        vertical-align: top;\n",
       "    }\n",
       "\n",
       "    .dataframe thead th {\n",
       "        text-align: right;\n",
       "    }\n",
       "</style>\n",
       "<table border=\"1\" class=\"dataframe\">\n",
       "  <thead>\n",
       "    <tr style=\"text-align: right;\">\n",
       "      <th></th>\n",
       "      <th>state</th>\n",
       "      <th>county_name</th>\n",
       "      <th>unemployment_rate_2010</th>\n",
       "      <th>population_total_2010</th>\n",
       "      <th>urban_population_prc</th>\n",
       "      <th>rural_population_prc</th>\n",
       "      <th>crime_per_capita</th>\n",
       "      <th>per_capita_sme_num</th>\n",
       "      <th>per_capita_large_num</th>\n",
       "      <th>avg_ann_pay_per_emp_sme</th>\n",
       "      <th>avg_ann_pay_per_emp_large</th>\n",
       "      <th>avg_ann_pay_per_emp_total</th>\n",
       "      <th>population_jail_prc</th>\n",
       "      <th>2008_dem_%_vote</th>\n",
       "      <th>2008_rep_%_vote</th>\n",
       "      <th>2008_other_%_vote</th>\n",
       "      <th>smoke_percent_2010</th>\n",
       "      <th>popul_hs_grad_prc</th>\n",
       "      <th>popul_college_grad_prc</th>\n",
       "      <th>popul_single_paren_prc</th>\n",
       "      <th>liquor_stores_per10k</th>\n",
       "      <th>police_per_1000</th>\n",
       "      <th>WhiteNonHispanicPct2010</th>\n",
       "      <th>BlackNonHispanicPct2010</th>\n",
       "      <th>AsianNonHispanicPct2010</th>\n",
       "      <th>NativeAmericanNonHispanicPct2010</th>\n",
       "      <th>HispanicPct2010</th>\n",
       "      <th>MultipleRacePct2010</th>\n",
       "    </tr>\n",
       "  </thead>\n",
       "  <tbody>\n",
       "    <tr>\n",
       "      <th>0</th>\n",
       "      <td>AL</td>\n",
       "      <td>Autauga</td>\n",
       "      <td>8.8</td>\n",
       "      <td>54571.0</td>\n",
       "      <td>0.579978</td>\n",
       "      <td>0.420022</td>\n",
       "      <td>0.002620</td>\n",
       "      <td>0.012259</td>\n",
       "      <td>0.002565</td>\n",
       "      <td>22667.03037</td>\n",
       "      <td>31792.20223</td>\n",
       "      <td>26856.69322</td>\n",
       "      <td>0.002914</td>\n",
       "      <td>0.257730</td>\n",
       "      <td>0.736136</td>\n",
       "      <td>0.006133</td>\n",
       "      <td>0.2577</td>\n",
       "      <td>0.72</td>\n",
       "      <td>0.21</td>\n",
       "      <td>0.09</td>\n",
       "      <td>0.4</td>\n",
       "      <td>1.172784</td>\n",
       "      <td>77.25</td>\n",
       "      <td>17.58</td>\n",
       "      <td>0.86</td>\n",
       "      <td>0.40</td>\n",
       "      <td>2.40</td>\n",
       "      <td>1.59</td>\n",
       "    </tr>\n",
       "    <tr>\n",
       "      <th>1</th>\n",
       "      <td>AL</td>\n",
       "      <td>Baldwin</td>\n",
       "      <td>9.9</td>\n",
       "      <td>182265.0</td>\n",
       "      <td>0.577209</td>\n",
       "      <td>0.422791</td>\n",
       "      <td>0.002112</td>\n",
       "      <td>0.020108</td>\n",
       "      <td>0.002019</td>\n",
       "      <td>28664.84962</td>\n",
       "      <td>29390.96748</td>\n",
       "      <td>28943.22956</td>\n",
       "      <td>0.004030</td>\n",
       "      <td>0.238119</td>\n",
       "      <td>0.752595</td>\n",
       "      <td>0.009286</td>\n",
       "      <td>0.2297</td>\n",
       "      <td>0.67</td>\n",
       "      <td>0.26</td>\n",
       "      <td>0.09</td>\n",
       "      <td>0.8</td>\n",
       "      <td>1.486846</td>\n",
       "      <td>83.50</td>\n",
       "      <td>9.31</td>\n",
       "      <td>0.74</td>\n",
       "      <td>0.63</td>\n",
       "      <td>4.38</td>\n",
       "      <td>1.49</td>\n",
       "    </tr>\n",
       "  </tbody>\n",
       "</table>\n",
       "</div>"
      ],
      "text/plain": [
       "  state county_name  unemployment_rate_2010  population_total_2010  \\\n",
       "0    AL     Autauga                     8.8                54571.0   \n",
       "1    AL     Baldwin                     9.9               182265.0   \n",
       "\n",
       "   urban_population_prc  rural_population_prc  crime_per_capita  \\\n",
       "0              0.579978              0.420022          0.002620   \n",
       "1              0.577209              0.422791          0.002112   \n",
       "\n",
       "   per_capita_sme_num  per_capita_large_num  avg_ann_pay_per_emp_sme  \\\n",
       "0            0.012259              0.002565              22667.03037   \n",
       "1            0.020108              0.002019              28664.84962   \n",
       "\n",
       "   avg_ann_pay_per_emp_large  avg_ann_pay_per_emp_total  population_jail_prc  \\\n",
       "0                31792.20223                26856.69322             0.002914   \n",
       "1                29390.96748                28943.22956             0.004030   \n",
       "\n",
       "   2008_dem_%_vote  2008_rep_%_vote  2008_other_%_vote  smoke_percent_2010  \\\n",
       "0         0.257730         0.736136           0.006133              0.2577   \n",
       "1         0.238119         0.752595           0.009286              0.2297   \n",
       "\n",
       "   popul_hs_grad_prc  popul_college_grad_prc  popul_single_paren_prc  \\\n",
       "0               0.72                    0.21                    0.09   \n",
       "1               0.67                    0.26                    0.09   \n",
       "\n",
       "   liquor_stores_per10k  police_per_1000  WhiteNonHispanicPct2010  \\\n",
       "0                   0.4         1.172784                    77.25   \n",
       "1                   0.8         1.486846                    83.50   \n",
       "\n",
       "   BlackNonHispanicPct2010  AsianNonHispanicPct2010  \\\n",
       "0                    17.58                     0.86   \n",
       "1                     9.31                     0.74   \n",
       "\n",
       "   NativeAmericanNonHispanicPct2010  HispanicPct2010  MultipleRacePct2010  \n",
       "0                              0.40             2.40                 1.59  \n",
       "1                              0.63             4.38                 1.49  "
      ]
     },
     "execution_count": 25,
     "metadata": {},
     "output_type": "execute_result"
    }
   ],
   "source": [
    "df.head(2)"
   ]
  },
  {
   "cell_type": "code",
   "execution_count": 26,
   "id": "3db88972",
   "metadata": {},
   "outputs": [
    {
     "data": {
      "text/plain": [
       "(3015, 28)"
      ]
     },
     "execution_count": 26,
     "metadata": {},
     "output_type": "execute_result"
    }
   ],
   "source": [
    "df.shape"
   ]
  },
  {
   "cell_type": "code",
   "execution_count": 27,
   "id": "468aef4c",
   "metadata": {},
   "outputs": [],
   "source": [
    "#saving the data\n",
    "df.to_csv('../data/final_work_data.csv', index=False)"
   ]
  },
  {
   "cell_type": "code",
   "execution_count": null,
   "id": "4fe61f2a",
   "metadata": {},
   "outputs": [],
   "source": []
  }
 ],
 "metadata": {
  "kernelspec": {
   "display_name": "Python 3",
   "language": "python",
   "name": "python3"
  },
  "language_info": {
   "codemirror_mode": {
    "name": "ipython",
    "version": 3
   },
   "file_extension": ".py",
   "mimetype": "text/x-python",
   "name": "python",
   "nbconvert_exporter": "python",
   "pygments_lexer": "ipython3",
   "version": "3.8.8"
  }
 },
 "nbformat": 4,
 "nbformat_minor": 5
}
