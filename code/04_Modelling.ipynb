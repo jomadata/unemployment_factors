{
 "cells": [
  {
   "cell_type": "code",
   "execution_count": 69,
   "id": "7c0827a8",
   "metadata": {},
   "outputs": [],
   "source": [
    "import pandas as pd\n",
    "import numpy as np\n",
    "import matplotlib.pyplot as plt\n",
    "\n",
    "from sklearn.linear_model import LinearRegression\n",
    "from sklearn.preprocessing import StandardScaler, PolynomialFeatures\n",
    "from sklearn.model_selection import train_test_split, cross_val_score, cross_val_predict\n",
    "from sklearn.pipeline import Pipeline\n",
    "from sklearn.model_selection import GridSearchCV\n",
    "from sklearn.decomposition import PCA\n",
    "from sklearn.metrics import mean_squared_error, r2_score\n",
    "\n",
    "from tensorflow.keras.models import Sequential, Model\n",
    "from tensorflow.keras.layers import Dense, Dropout, BatchNormalization, Input\n",
    "from tensorflow.keras.regularizers import l1, l2, l1_l2\n",
    "from tensorflow.keras.callbacks import EarlyStopping\n",
    "from tensorflow.keras.wrappers.scikit_learn import KerasRegressor"
   ]
  },
  {
   "cell_type": "code",
   "execution_count": 70,
   "id": "b8313c66",
   "metadata": {},
   "outputs": [],
   "source": [
    "#df = pd.read_csv('../data/full_data_interaction_05_025.csv')\n",
    "#df = pd.read_csv('../data/full_data_interaction_01_075.csv')\n",
    "df = pd.read_csv('../data/full_data_interaction_025_075.csv')"
   ]
  },
  {
   "cell_type": "code",
   "execution_count": 71,
   "id": "f03abae7",
   "metadata": {},
   "outputs": [
    {
     "data": {
      "text/plain": [
       "(3015, 101)"
      ]
     },
     "execution_count": 71,
     "metadata": {},
     "output_type": "execute_result"
    }
   ],
   "source": [
    "df.shape"
   ]
  },
  {
   "cell_type": "code",
   "execution_count": 14,
   "id": "cf1f2802",
   "metadata": {},
   "outputs": [],
   "source": [
    "X = df.drop(columns = ['state', 'county_name', 'unemployment_rate_2010', 'population_total_2010'])\n",
    "y = df['unemployment_rate_2010']"
   ]
  },
  {
   "cell_type": "code",
   "execution_count": 15,
   "id": "d12df3d0",
   "metadata": {},
   "outputs": [],
   "source": [
    "X_train, X_test, y_train, y_test = train_test_split(X, y, random_state=42)"
   ]
  },
  {
   "cell_type": "code",
   "execution_count": 16,
   "id": "af847ecb",
   "metadata": {},
   "outputs": [],
   "source": [
    "ss = StandardScaler()\n",
    "Z_train = ss.fit_transform(X_train)\n",
    "Z_test = ss.transform(X_test)"
   ]
  },
  {
   "cell_type": "markdown",
   "id": "b89083a7",
   "metadata": {},
   "source": [
    "### Linear Regression on original data"
   ]
  },
  {
   "cell_type": "code",
   "execution_count": 64,
   "id": "8000a591",
   "metadata": {},
   "outputs": [],
   "source": [
    "df_lin_reg = pd.read_csv('../data/final_work_data.csv')"
   ]
  },
  {
   "cell_type": "code",
   "execution_count": 65,
   "id": "0df45f4b",
   "metadata": {},
   "outputs": [
    {
     "data": {
      "text/html": [
       "<div>\n",
       "<style scoped>\n",
       "    .dataframe tbody tr th:only-of-type {\n",
       "        vertical-align: middle;\n",
       "    }\n",
       "\n",
       "    .dataframe tbody tr th {\n",
       "        vertical-align: top;\n",
       "    }\n",
       "\n",
       "    .dataframe thead th {\n",
       "        text-align: right;\n",
       "    }\n",
       "</style>\n",
       "<table border=\"1\" class=\"dataframe\">\n",
       "  <thead>\n",
       "    <tr style=\"text-align: right;\">\n",
       "      <th></th>\n",
       "      <th>state</th>\n",
       "      <th>county_name</th>\n",
       "      <th>unemployment_rate_2010</th>\n",
       "      <th>population_total_2010</th>\n",
       "      <th>urban_population_prc</th>\n",
       "      <th>rural_population_prc</th>\n",
       "      <th>crime_per_capita</th>\n",
       "      <th>per_capita_sme_num</th>\n",
       "      <th>per_capita_large_num</th>\n",
       "      <th>avg_ann_pay_per_emp_sme</th>\n",
       "      <th>...</th>\n",
       "      <th>popul_college_grad_prc</th>\n",
       "      <th>popul_single_paren_prc</th>\n",
       "      <th>liquor_stores_per10k</th>\n",
       "      <th>police_per_1000</th>\n",
       "      <th>WhiteNonHispanicPct2010</th>\n",
       "      <th>BlackNonHispanicPct2010</th>\n",
       "      <th>AsianNonHispanicPct2010</th>\n",
       "      <th>NativeAmericanNonHispanicPct2010</th>\n",
       "      <th>HispanicPct2010</th>\n",
       "      <th>MultipleRacePct2010</th>\n",
       "    </tr>\n",
       "  </thead>\n",
       "  <tbody>\n",
       "    <tr>\n",
       "      <th>0</th>\n",
       "      <td>AL</td>\n",
       "      <td>Autauga</td>\n",
       "      <td>8.8</td>\n",
       "      <td>54571.0</td>\n",
       "      <td>0.579978</td>\n",
       "      <td>0.420022</td>\n",
       "      <td>0.002620</td>\n",
       "      <td>0.012259</td>\n",
       "      <td>0.002565</td>\n",
       "      <td>22667.03037</td>\n",
       "      <td>...</td>\n",
       "      <td>0.21</td>\n",
       "      <td>0.09</td>\n",
       "      <td>0.4</td>\n",
       "      <td>1.172784</td>\n",
       "      <td>77.25</td>\n",
       "      <td>17.58</td>\n",
       "      <td>0.86</td>\n",
       "      <td>0.40</td>\n",
       "      <td>2.40</td>\n",
       "      <td>1.59</td>\n",
       "    </tr>\n",
       "    <tr>\n",
       "      <th>1</th>\n",
       "      <td>AL</td>\n",
       "      <td>Baldwin</td>\n",
       "      <td>9.9</td>\n",
       "      <td>182265.0</td>\n",
       "      <td>0.577209</td>\n",
       "      <td>0.422791</td>\n",
       "      <td>0.002112</td>\n",
       "      <td>0.020108</td>\n",
       "      <td>0.002019</td>\n",
       "      <td>28664.84962</td>\n",
       "      <td>...</td>\n",
       "      <td>0.26</td>\n",
       "      <td>0.09</td>\n",
       "      <td>0.8</td>\n",
       "      <td>1.486846</td>\n",
       "      <td>83.50</td>\n",
       "      <td>9.31</td>\n",
       "      <td>0.74</td>\n",
       "      <td>0.63</td>\n",
       "      <td>4.38</td>\n",
       "      <td>1.49</td>\n",
       "    </tr>\n",
       "    <tr>\n",
       "      <th>2</th>\n",
       "      <td>AL</td>\n",
       "      <td>Barbour</td>\n",
       "      <td>12.1</td>\n",
       "      <td>27457.0</td>\n",
       "      <td>0.322104</td>\n",
       "      <td>0.677896</td>\n",
       "      <td>0.000911</td>\n",
       "      <td>0.015042</td>\n",
       "      <td>0.002586</td>\n",
       "      <td>25720.31403</td>\n",
       "      <td>...</td>\n",
       "      <td>0.11</td>\n",
       "      <td>0.14</td>\n",
       "      <td>1.1</td>\n",
       "      <td>3.177696</td>\n",
       "      <td>46.75</td>\n",
       "      <td>46.69</td>\n",
       "      <td>0.39</td>\n",
       "      <td>0.22</td>\n",
       "      <td>5.05</td>\n",
       "      <td>0.94</td>\n",
       "    </tr>\n",
       "    <tr>\n",
       "      <th>3</th>\n",
       "      <td>AL</td>\n",
       "      <td>Bibb</td>\n",
       "      <td>11.2</td>\n",
       "      <td>22915.0</td>\n",
       "      <td>0.316474</td>\n",
       "      <td>0.683526</td>\n",
       "      <td>0.002575</td>\n",
       "      <td>0.011172</td>\n",
       "      <td>0.000916</td>\n",
       "      <td>27318.29733</td>\n",
       "      <td>...</td>\n",
       "      <td>0.11</td>\n",
       "      <td>0.05</td>\n",
       "      <td>0.5</td>\n",
       "      <td>0.523674</td>\n",
       "      <td>75.02</td>\n",
       "      <td>21.92</td>\n",
       "      <td>0.10</td>\n",
       "      <td>0.28</td>\n",
       "      <td>1.77</td>\n",
       "      <td>0.89</td>\n",
       "    </tr>\n",
       "    <tr>\n",
       "      <th>4</th>\n",
       "      <td>AL</td>\n",
       "      <td>Blount</td>\n",
       "      <td>9.7</td>\n",
       "      <td>57322.0</td>\n",
       "      <td>0.100485</td>\n",
       "      <td>0.899515</td>\n",
       "      <td>0.000419</td>\n",
       "      <td>0.010485</td>\n",
       "      <td>0.001082</td>\n",
       "      <td>26050.59382</td>\n",
       "      <td>...</td>\n",
       "      <td>0.12</td>\n",
       "      <td>0.07</td>\n",
       "      <td>0.0</td>\n",
       "      <td>0.854820</td>\n",
       "      <td>88.89</td>\n",
       "      <td>1.26</td>\n",
       "      <td>0.20</td>\n",
       "      <td>0.50</td>\n",
       "      <td>8.07</td>\n",
       "      <td>1.19</td>\n",
       "    </tr>\n",
       "  </tbody>\n",
       "</table>\n",
       "<p>5 rows × 28 columns</p>\n",
       "</div>"
      ],
      "text/plain": [
       "  state county_name  unemployment_rate_2010  population_total_2010  \\\n",
       "0    AL     Autauga                     8.8                54571.0   \n",
       "1    AL     Baldwin                     9.9               182265.0   \n",
       "2    AL     Barbour                    12.1                27457.0   \n",
       "3    AL        Bibb                    11.2                22915.0   \n",
       "4    AL      Blount                     9.7                57322.0   \n",
       "\n",
       "   urban_population_prc  rural_population_prc  crime_per_capita  \\\n",
       "0              0.579978              0.420022          0.002620   \n",
       "1              0.577209              0.422791          0.002112   \n",
       "2              0.322104              0.677896          0.000911   \n",
       "3              0.316474              0.683526          0.002575   \n",
       "4              0.100485              0.899515          0.000419   \n",
       "\n",
       "   per_capita_sme_num  per_capita_large_num  avg_ann_pay_per_emp_sme  ...  \\\n",
       "0            0.012259              0.002565              22667.03037  ...   \n",
       "1            0.020108              0.002019              28664.84962  ...   \n",
       "2            0.015042              0.002586              25720.31403  ...   \n",
       "3            0.011172              0.000916              27318.29733  ...   \n",
       "4            0.010485              0.001082              26050.59382  ...   \n",
       "\n",
       "   popul_college_grad_prc  popul_single_paren_prc  liquor_stores_per10k  \\\n",
       "0                    0.21                    0.09                   0.4   \n",
       "1                    0.26                    0.09                   0.8   \n",
       "2                    0.11                    0.14                   1.1   \n",
       "3                    0.11                    0.05                   0.5   \n",
       "4                    0.12                    0.07                   0.0   \n",
       "\n",
       "   police_per_1000  WhiteNonHispanicPct2010  BlackNonHispanicPct2010  \\\n",
       "0         1.172784                    77.25                    17.58   \n",
       "1         1.486846                    83.50                     9.31   \n",
       "2         3.177696                    46.75                    46.69   \n",
       "3         0.523674                    75.02                    21.92   \n",
       "4         0.854820                    88.89                     1.26   \n",
       "\n",
       "   AsianNonHispanicPct2010  NativeAmericanNonHispanicPct2010  HispanicPct2010  \\\n",
       "0                     0.86                              0.40             2.40   \n",
       "1                     0.74                              0.63             4.38   \n",
       "2                     0.39                              0.22             5.05   \n",
       "3                     0.10                              0.28             1.77   \n",
       "4                     0.20                              0.50             8.07   \n",
       "\n",
       "   MultipleRacePct2010  \n",
       "0                 1.59  \n",
       "1                 1.49  \n",
       "2                 0.94  \n",
       "3                 0.89  \n",
       "4                 1.19  \n",
       "\n",
       "[5 rows x 28 columns]"
      ]
     },
     "execution_count": 65,
     "metadata": {},
     "output_type": "execute_result"
    }
   ],
   "source": [
    "df_lin_reg.head()"
   ]
  },
  {
   "cell_type": "code",
   "execution_count": 66,
   "id": "f16acb6f",
   "metadata": {},
   "outputs": [
    {
     "data": {
      "text/plain": [
       "LinearRegression()"
      ]
     },
     "execution_count": 66,
     "metadata": {},
     "output_type": "execute_result"
    }
   ],
   "source": [
    "lin_reg = LinearRegression()\n",
    "X = df_lin_reg.drop(columns=['state', 'county_name', 'unemployment_rate_2010', 'population_total_2010'])\n",
    "y = df_lin_reg['unemployment_rate_2010']\n",
    "X_train_lr, X_test_lr, y_train_lr, y_test_lr = train_test_split(X, y, random_state=42)\n",
    "lin_reg.fit(X_train_lr, y_train_lr)"
   ]
  },
  {
   "cell_type": "code",
   "execution_count": 67,
   "id": "158bc146",
   "metadata": {},
   "outputs": [
    {
     "data": {
      "text/plain": [
       "(0.4299423542202645, 0.39382629086847676, 0.3593874243714773)"
      ]
     },
     "execution_count": 67,
     "metadata": {},
     "output_type": "execute_result"
    }
   ],
   "source": [
    "lin_reg.score(X_train_lr, y_train_lr),lin_reg.score(X_test_lr, y_test_lr), cross_val_score(lin_reg, X_train_lr, y_train_lr).mean() "
   ]
  },
  {
   "cell_type": "code",
   "execution_count": 68,
   "id": "e1c55e98",
   "metadata": {},
   "outputs": [
    {
     "data": {
      "image/png": "[encoded data removed]",
      "text/plain": [
       "<Figure size 792x792 with 1 Axes>"
      ]
     },
     "metadata": {
      "needs_background": "light"
     },
     "output_type": "display_data"
    }
   ],
   "source": [
    "\n",
    "plt.figure(figsize=(11,11))\n",
    "plt.scatter(lin_reg.predict(X_train_lr), y_train_lr)\n",
    "plt.title('LR_orig - Train: 0.43, Test: 0.394, Cross: 0.359')\n",
    "plt.savefig('../graphs/LR_orig_pred_scatter.jpg')"
   ]
  },
  {
   "cell_type": "markdown",
   "id": "f3600668",
   "metadata": {},
   "source": [
    "### Linear Regression on preporcessed data"
   ]
  },
  {
   "cell_type": "code",
   "execution_count": 22,
   "id": "f06de963",
   "metadata": {},
   "outputs": [
    {
     "data": {
      "text/plain": [
       "LinearRegression()"
      ]
     },
     "execution_count": 22,
     "metadata": {},
     "output_type": "execute_result"
    }
   ],
   "source": [
    "lr = LinearRegression()\n",
    "lr.fit(Z_train, y_train)"
   ]
  },
  {
   "cell_type": "code",
   "execution_count": 23,
   "id": "57db8bac",
   "metadata": {},
   "outputs": [
    {
     "data": {
      "text/plain": [
       "(0.544725150185152, 0.4836054146441289, 0.45721636211613725)"
      ]
     },
     "execution_count": 23,
     "metadata": {},
     "output_type": "execute_result"
    }
   ],
   "source": [
    "lr.score(Z_train, y_train), lr.score(Z_test, y_test), cross_val_score(lr, Z_train, y_train).mean()"
   ]
  },
  {
   "cell_type": "code",
   "execution_count": 24,
   "id": "021aca47",
   "metadata": {},
   "outputs": [],
   "source": [
    "lin_train = cross_val_predict(lr, Z_train, y_train)\n",
    "lin_test = cross_val_predict(lr, Z_test, y_test)"
   ]
  },
  {
   "cell_type": "code",
   "execution_count": 63,
   "id": "eced0afa",
   "metadata": {
    "scrolled": true
   },
   "outputs": [
    {
     "data": {
      "image/png": "[encoded data removed]",
      "text/plain": [
       "<Figure size 792x792 with 1 Axes>"
      ]
     },
     "metadata": {
      "needs_background": "light"
     },
     "output_type": "display_data"
    }
   ],
   "source": [
    "\n",
    "plt.figure(figsize=(11,11))\n",
    "plt.scatter(lr.predict(Z_train), y_train)\n",
    "plt.title('LR_preproc - Train: 0.545, Test: 0.484, Cross: 0.457')\n",
    "plt.savefig('../graphs/LR_preproc_pred_scatter.jpg')"
   ]
  },
  {
   "cell_type": "markdown",
   "id": "c3ebc2fa",
   "metadata": {},
   "source": [
    "### Linear Regression PCA"
   ]
  },
  {
   "cell_type": "code",
   "execution_count": 58,
   "id": "369f1b78",
   "metadata": {},
   "outputs": [],
   "source": [
    "df = pd.read_csv('../data/final_work_data.csv')"
   ]
  },
  {
   "cell_type": "code",
   "execution_count": 59,
   "id": "71588da3",
   "metadata": {},
   "outputs": [],
   "source": [
    "X = df.drop(columns = ['state', 'county_name', 'unemployment_rate_2010', 'population_total_2010'])\n",
    "y = df['unemployment_rate_2010']"
   ]
  },
  {
   "cell_type": "code",
   "execution_count": 60,
   "id": "661413c3",
   "metadata": {},
   "outputs": [],
   "source": [
    "X_train, X_test, y_train, y_test = train_test_split(X, y, random_state=42)"
   ]
  },
  {
   "cell_type": "code",
   "execution_count": 61,
   "id": "2bd57692",
   "metadata": {},
   "outputs": [
    {
     "name": "stdout",
     "output_type": "stream",
     "text": [
      "0.09329123454631678\n",
      "0.21090043466563735\n",
      "-2442.8702758045124\n"
     ]
    },
    {
     "data": {
      "text/plain": [
       "{'pca__n_components': 10}"
      ]
     },
     "execution_count": 61,
     "metadata": {},
     "output_type": "execute_result"
    }
   ],
   "source": [
    "pipe = Pipeline([\n",
    "    ('poly', PolynomialFeatures(degree=3, include_bias=False)),\n",
    "    ('ss', StandardScaler()),\n",
    "    ('pca', PCA()),\n",
    "    ('model', LinearRegression())\n",
    "])\n",
    "params = {\n",
    "    'pca__n_components': range(10,200,20)\n",
    "}\n",
    "gs = GridSearchCV(pipe, param_grid=params)\n",
    "gs.fit(X_train, y_train)\n",
    "print(gs.best_score_)\n",
    "print(gs.score(X_test, y_test))\n",
    "print(cross_val_score(gs, X_train, y_train).mean())\n",
    "gs.best_params_"
   ]
  },
  {
   "cell_type": "code",
   "execution_count": 62,
   "id": "c830aff8",
   "metadata": {},
   "outputs": [
    {
     "data": {
      "image/png": "[encoded data removed]",
      "text/plain": [
       "<Figure size 792x792 with 1 Axes>"
      ]
     },
     "metadata": {
      "needs_background": "light"
     },
     "output_type": "display_data"
    }
   ],
   "source": [
    "plt.figure(figsize=(11,11))\n",
    "plt.scatter(gs.predict(X_train), y_train)\n",
    "plt.title('LR_PCA - very low scores')\n",
    "plt.savefig('../graphs/LR_PCA_pred_scatter.jpg')"
   ]
  },
  {
   "cell_type": "markdown",
   "id": "14da9a54",
   "metadata": {},
   "source": [
    "### Neural network on linear regression initeraction data"
   ]
  },
  {
   "cell_type": "code",
   "execution_count": 32,
   "id": "c480027b",
   "metadata": {},
   "outputs": [],
   "source": [
    "df = pd.read_csv('../data/full_data_interaction_025_075.csv')"
   ]
  },
  {
   "cell_type": "code",
   "execution_count": 33,
   "id": "1ebe39c8",
   "metadata": {},
   "outputs": [],
   "source": [
    "X = df.drop(columns = ['state', 'county_name', 'unemployment_rate_2010', 'population_total_2010'])\n",
    "y = df['unemployment_rate_2010']"
   ]
  },
  {
   "cell_type": "code",
   "execution_count": 34,
   "id": "4f146170",
   "metadata": {},
   "outputs": [],
   "source": [
    "X_train, X_test, y_train, y_test = train_test_split(X, y, random_state=42)"
   ]
  },
  {
   "cell_type": "code",
   "execution_count": 35,
   "id": "33e4bab9",
   "metadata": {},
   "outputs": [],
   "source": [
    "ss = StandardScaler()\n",
    "Z_train = ss.fit_transform(X_train)\n",
    "Z_test = ss.transform(X_test)"
   ]
  },
  {
   "cell_type": "code",
   "execution_count": 36,
   "id": "473d9f10",
   "metadata": {},
   "outputs": [
    {
     "data": {
      "text/plain": [
       "(97,)"
      ]
     },
     "execution_count": 36,
     "metadata": {},
     "output_type": "execute_result"
    }
   ],
   "source": [
    "in_shape = Z_train[0].shape\n",
    "in_shape"
   ]
  },
  {
   "cell_type": "code",
   "execution_count": 37,
   "id": "8c1da7ad",
   "metadata": {},
   "outputs": [],
   "source": [
    "model_1 = Sequential()\n",
    "\n",
    "model_1.add(Dense(128, activation= 'relu', input_shape= in_shape))\n",
    "model_1.add(Dropout(.3))\n",
    "\n",
    "model_1.add(BatchNormalization())\n",
    "model_1.add(Dense(128, activation= 'relu'))\n",
    "\n",
    "model_1.add(BatchNormalization())\n",
    "model_1.add(Dense(64, activation= 'relu'))\n",
    "\n",
    "model_1.add(Dense(32, activation= 'relu'))\n",
    "model_1.add(Dropout(.5))\n",
    "\n",
    "model_1.add(Dense(1, activation= None))"
   ]
  },
  {
   "cell_type": "code",
   "execution_count": 38,
   "id": "1af3f8c8",
   "metadata": {},
   "outputs": [],
   "source": [
    "model_1.compile(optimizer= 'adam', loss= 'mse', metrics= ['mse', 'RootMeanSquaredError', 'MeanAbsolutePercentageError'])"
   ]
  },
  {
   "cell_type": "code",
   "execution_count": 39,
   "id": "2afcab94",
   "metadata": {},
   "outputs": [
    {
     "name": "stdout",
     "output_type": "stream",
     "text": [
      "Epoch 1/300\n",
      "71/71 [==============================] - 1s 3ms/step - loss: 45.6009 - mse: 45.6009 - root_mean_squared_error: 6.7528 - mean_absolute_percentage_error: 60.6868 - val_loss: 32.8380 - val_mse: 32.8380 - val_root_mean_squared_error: 5.7304 - val_mean_absolute_percentage_error: 50.2405\n",
      "Epoch 2/300\n",
      "71/71 [==============================] - 0s 2ms/step - loss: 15.7886 - mse: 15.7886 - root_mean_squared_error: 3.9735 - mean_absolute_percentage_error: 34.8515 - val_loss: 19.9764 - val_mse: 19.9764 - val_root_mean_squared_error: 4.4695 - val_mean_absolute_percentage_error: 39.1486\n",
      "Epoch 3/300\n",
      "71/71 [==============================] - 0s 3ms/step - loss: 12.9128 - mse: 12.9128 - root_mean_squared_error: 3.5934 - mean_absolute_percentage_error: 31.5733 - val_loss: 10.6354 - val_mse: 10.6354 - val_root_mean_squared_error: 3.2612 - val_mean_absolute_percentage_error: 25.1300\n",
      "Epoch 4/300\n",
      "71/71 [==============================] - 0s 2ms/step - loss: 12.1614 - mse: 12.1614 - root_mean_squared_error: 3.4873 - mean_absolute_percentage_error: 30.9516 - val_loss: 7.4344 - val_mse: 7.4344 - val_root_mean_squared_error: 2.7266 - val_mean_absolute_percentage_error: 20.7298\n",
      "Epoch 5/300\n",
      "71/71 [==============================] - 0s 2ms/step - loss: 12.0081 - mse: 12.0081 - root_mean_squared_error: 3.4653 - mean_absolute_percentage_error: 30.4389 - val_loss: 6.8352 - val_mse: 6.8352 - val_root_mean_squared_error: 2.6144 - val_mean_absolute_percentage_error: 20.2394\n",
      "Epoch 6/300\n",
      "71/71 [==============================] - 0s 2ms/step - loss: 12.0500 - mse: 12.0500 - root_mean_squared_error: 3.4713 - mean_absolute_percentage_error: 30.5132 - val_loss: 6.6880 - val_mse: 6.6880 - val_root_mean_squared_error: 2.5861 - val_mean_absolute_percentage_error: 19.9549\n",
      "Epoch 7/300\n",
      "71/71 [==============================] - 0s 2ms/step - loss: 11.7848 - mse: 11.7848 - root_mean_squared_error: 3.4329 - mean_absolute_percentage_error: 29.8859 - val_loss: 5.6355 - val_mse: 5.6355 - val_root_mean_squared_error: 2.3739 - val_mean_absolute_percentage_error: 19.2659\n",
      "Epoch 8/300\n",
      "71/71 [==============================] - 0s 2ms/step - loss: 10.8298 - mse: 10.8298 - root_mean_squared_error: 3.2909 - mean_absolute_percentage_error: 28.9196 - val_loss: 5.2499 - val_mse: 5.2499 - val_root_mean_squared_error: 2.2913 - val_mean_absolute_percentage_error: 18.5281\n",
      "Epoch 9/300\n",
      "71/71 [==============================] - 0s 3ms/step - loss: 10.6649 - mse: 10.6649 - root_mean_squared_error: 3.2657 - mean_absolute_percentage_error: 28.6844 - val_loss: 4.6824 - val_mse: 4.6824 - val_root_mean_squared_error: 2.1639 - val_mean_absolute_percentage_error: 18.3206\n",
      "Epoch 10/300\n",
      "71/71 [==============================] - 0s 5ms/step - loss: 10.6146 - mse: 10.6146 - root_mean_squared_error: 3.2580 - mean_absolute_percentage_error: 28.0872 - val_loss: 4.9614 - val_mse: 4.9614 - val_root_mean_squared_error: 2.2274 - val_mean_absolute_percentage_error: 18.0207\n",
      "Epoch 11/300\n",
      "71/71 [==============================] - 0s 4ms/step - loss: 10.2380 - mse: 10.2380 - root_mean_squared_error: 3.1997 - mean_absolute_percentage_error: 27.2480 - val_loss: 4.6685 - val_mse: 4.6685 - val_root_mean_squared_error: 2.1607 - val_mean_absolute_percentage_error: 17.6990\n",
      "Epoch 12/300\n",
      "71/71 [==============================] - 0s 4ms/step - loss: 11.2505 - mse: 11.2505 - root_mean_squared_error: 3.3542 - mean_absolute_percentage_error: 29.0233 - val_loss: 6.2164 - val_mse: 6.2164 - val_root_mean_squared_error: 2.4933 - val_mean_absolute_percentage_error: 19.7778\n",
      "Epoch 13/300\n",
      "71/71 [==============================] - 0s 4ms/step - loss: 10.8179 - mse: 10.8179 - root_mean_squared_error: 3.2891 - mean_absolute_percentage_error: 27.7905 - val_loss: 5.2713 - val_mse: 5.2713 - val_root_mean_squared_error: 2.2959 - val_mean_absolute_percentage_error: 19.2204\n",
      "Epoch 14/300\n",
      "71/71 [==============================] - 0s 3ms/step - loss: 10.3479 - mse: 10.3479 - root_mean_squared_error: 3.2168 - mean_absolute_percentage_error: 27.6425 - val_loss: 5.5231 - val_mse: 5.5231 - val_root_mean_squared_error: 2.3501 - val_mean_absolute_percentage_error: 18.4665\n",
      "Epoch 15/300\n",
      "71/71 [==============================] - 0s 2ms/step - loss: 10.3196 - mse: 10.3196 - root_mean_squared_error: 3.2124 - mean_absolute_percentage_error: 27.7001 - val_loss: 5.1926 - val_mse: 5.1926 - val_root_mean_squared_error: 2.2787 - val_mean_absolute_percentage_error: 17.8560\n",
      "Epoch 16/300\n",
      "71/71 [==============================] - 0s 2ms/step - loss: 10.1806 - mse: 10.1806 - root_mean_squared_error: 3.1907 - mean_absolute_percentage_error: 28.0972 - val_loss: 4.5675 - val_mse: 4.5675 - val_root_mean_squared_error: 2.1372 - val_mean_absolute_percentage_error: 17.9960\n",
      "Epoch 17/300\n",
      "71/71 [==============================] - 0s 2ms/step - loss: 10.5519 - mse: 10.5519 - root_mean_squared_error: 3.2484 - mean_absolute_percentage_error: 27.9155 - val_loss: 5.7575 - val_mse: 5.7575 - val_root_mean_squared_error: 2.3995 - val_mean_absolute_percentage_error: 18.3624\n",
      "Epoch 18/300\n",
      "71/71 [==============================] - 0s 2ms/step - loss: 9.6265 - mse: 9.6265 - root_mean_squared_error: 3.1027 - mean_absolute_percentage_error: 26.8398 - val_loss: 4.4099 - val_mse: 4.4099 - val_root_mean_squared_error: 2.1000 - val_mean_absolute_percentage_error: 18.0024\n",
      "Epoch 19/300\n",
      "71/71 [==============================] - 0s 2ms/step - loss: 9.7065 - mse: 9.7065 - root_mean_squared_error: 3.1155 - mean_absolute_percentage_error: 27.1669 - val_loss: 4.8471 - val_mse: 4.8471 - val_root_mean_squared_error: 2.2016 - val_mean_absolute_percentage_error: 17.3429\n",
      "Epoch 20/300\n",
      "71/71 [==============================] - 0s 2ms/step - loss: 9.7969 - mse: 9.7969 - root_mean_squared_error: 3.1300 - mean_absolute_percentage_error: 26.4785 - val_loss: 4.8269 - val_mse: 4.8269 - val_root_mean_squared_error: 2.1970 - val_mean_absolute_percentage_error: 17.8264\n",
      "Epoch 21/300\n",
      "71/71 [==============================] - 0s 2ms/step - loss: 10.0484 - mse: 10.0484 - root_mean_squared_error: 3.1699 - mean_absolute_percentage_error: 26.9506 - val_loss: 4.8527 - val_mse: 4.8527 - val_root_mean_squared_error: 2.2029 - val_mean_absolute_percentage_error: 17.8915\n",
      "Epoch 22/300\n",
      "71/71 [==============================] - 0s 2ms/step - loss: 9.7327 - mse: 9.7327 - root_mean_squared_error: 3.1197 - mean_absolute_percentage_error: 27.0998 - val_loss: 4.8952 - val_mse: 4.8952 - val_root_mean_squared_error: 2.2125 - val_mean_absolute_percentage_error: 17.7877\n",
      "Epoch 23/300\n",
      "71/71 [==============================] - 0s 2ms/step - loss: 9.2482 - mse: 9.2482 - root_mean_squared_error: 3.0411 - mean_absolute_percentage_error: 26.0367 - val_loss: 4.9386 - val_mse: 4.9386 - val_root_mean_squared_error: 2.2223 - val_mean_absolute_percentage_error: 18.3219\n",
      "Epoch 24/300\n",
      "71/71 [==============================] - 0s 2ms/step - loss: 9.1516 - mse: 9.1516 - root_mean_squared_error: 3.0252 - mean_absolute_percentage_error: 26.2591 - val_loss: 4.8852 - val_mse: 4.8852 - val_root_mean_squared_error: 2.2102 - val_mean_absolute_percentage_error: 17.5440\n",
      "Epoch 25/300\n",
      "71/71 [==============================] - 0s 2ms/step - loss: 9.1582 - mse: 9.1582 - root_mean_squared_error: 3.0262 - mean_absolute_percentage_error: 25.8401 - val_loss: 4.6139 - val_mse: 4.6139 - val_root_mean_squared_error: 2.1480 - val_mean_absolute_percentage_error: 17.3107\n",
      "Epoch 26/300\n",
      "71/71 [==============================] - 0s 2ms/step - loss: 9.5503 - mse: 9.5503 - root_mean_squared_error: 3.0904 - mean_absolute_percentage_error: 26.3912 - val_loss: 4.2083 - val_mse: 4.2083 - val_root_mean_squared_error: 2.0514 - val_mean_absolute_percentage_error: 17.1764\n",
      "Epoch 27/300\n",
      "71/71 [==============================] - 0s 2ms/step - loss: 9.1700 - mse: 9.1700 - root_mean_squared_error: 3.0282 - mean_absolute_percentage_error: 26.0160 - val_loss: 4.6932 - val_mse: 4.6932 - val_root_mean_squared_error: 2.1664 - val_mean_absolute_percentage_error: 17.3033\n",
      "Epoch 28/300\n",
      "71/71 [==============================] - 0s 2ms/step - loss: 8.9710 - mse: 8.9710 - root_mean_squared_error: 2.9952 - mean_absolute_percentage_error: 26.2225 - val_loss: 4.7156 - val_mse: 4.7156 - val_root_mean_squared_error: 2.1715 - val_mean_absolute_percentage_error: 18.1943\n"
     ]
    },
    {
     "name": "stdout",
     "output_type": "stream",
     "text": [
      "Epoch 29/300\n",
      "71/71 [==============================] - 0s 2ms/step - loss: 9.0228 - mse: 9.0228 - root_mean_squared_error: 3.0038 - mean_absolute_percentage_error: 25.3089 - val_loss: 4.3999 - val_mse: 4.3999 - val_root_mean_squared_error: 2.0976 - val_mean_absolute_percentage_error: 17.5660\n",
      "Epoch 30/300\n",
      "71/71 [==============================] - 0s 2ms/step - loss: 8.6030 - mse: 8.6030 - root_mean_squared_error: 2.9331 - mean_absolute_percentage_error: 24.8057 - val_loss: 4.2672 - val_mse: 4.2672 - val_root_mean_squared_error: 2.0657 - val_mean_absolute_percentage_error: 17.0660\n",
      "Epoch 31/300\n",
      "71/71 [==============================] - 0s 3ms/step - loss: 8.8654 - mse: 8.8654 - root_mean_squared_error: 2.9775 - mean_absolute_percentage_error: 25.4817 - val_loss: 4.3347 - val_mse: 4.3347 - val_root_mean_squared_error: 2.0820 - val_mean_absolute_percentage_error: 17.1841\n",
      "Epoch 32/300\n",
      "71/71 [==============================] - 0s 3ms/step - loss: 8.9203 - mse: 8.9203 - root_mean_squared_error: 2.9867 - mean_absolute_percentage_error: 25.3993 - val_loss: 4.5127 - val_mse: 4.5127 - val_root_mean_squared_error: 2.1243 - val_mean_absolute_percentage_error: 16.7302\n",
      "Epoch 33/300\n",
      "71/71 [==============================] - 0s 3ms/step - loss: 8.8865 - mse: 8.8865 - root_mean_squared_error: 2.9810 - mean_absolute_percentage_error: 25.4710 - val_loss: 4.3805 - val_mse: 4.3805 - val_root_mean_squared_error: 2.0930 - val_mean_absolute_percentage_error: 17.4775\n",
      "Epoch 34/300\n",
      "71/71 [==============================] - 0s 4ms/step - loss: 8.7814 - mse: 8.7814 - root_mean_squared_error: 2.9633 - mean_absolute_percentage_error: 25.0912 - val_loss: 4.4084 - val_mse: 4.4084 - val_root_mean_squared_error: 2.0996 - val_mean_absolute_percentage_error: 16.9811\n",
      "Epoch 35/300\n",
      "71/71 [==============================] - 0s 3ms/step - loss: 8.3129 - mse: 8.3129 - root_mean_squared_error: 2.8832 - mean_absolute_percentage_error: 24.6899 - val_loss: 4.5014 - val_mse: 4.5014 - val_root_mean_squared_error: 2.1217 - val_mean_absolute_percentage_error: 17.4098\n",
      "Epoch 36/300\n",
      "71/71 [==============================] - 0s 2ms/step - loss: 8.7205 - mse: 8.7205 - root_mean_squared_error: 2.9531 - mean_absolute_percentage_error: 24.7179 - val_loss: 4.4268 - val_mse: 4.4268 - val_root_mean_squared_error: 2.1040 - val_mean_absolute_percentage_error: 16.5524\n",
      "Epoch 37/300\n",
      "71/71 [==============================] - 0s 4ms/step - loss: 7.6749 - mse: 7.6749 - root_mean_squared_error: 2.7704 - mean_absolute_percentage_error: 24.0634 - val_loss: 3.9109 - val_mse: 3.9109 - val_root_mean_squared_error: 1.9776 - val_mean_absolute_percentage_error: 16.9666\n",
      "Epoch 38/300\n",
      "71/71 [==============================] - 0s 4ms/step - loss: 8.0883 - mse: 8.0883 - root_mean_squared_error: 2.8440 - mean_absolute_percentage_error: 24.3833 - val_loss: 4.0797 - val_mse: 4.0797 - val_root_mean_squared_error: 2.0198 - val_mean_absolute_percentage_error: 16.6086\n",
      "Epoch 39/300\n",
      "71/71 [==============================] - 0s 3ms/step - loss: 8.1374 - mse: 8.1374 - root_mean_squared_error: 2.8526 - mean_absolute_percentage_error: 23.8204 - val_loss: 4.4730 - val_mse: 4.4730 - val_root_mean_squared_error: 2.1150 - val_mean_absolute_percentage_error: 17.0439\n",
      "Epoch 40/300\n",
      "71/71 [==============================] - 0s 3ms/step - loss: 7.8272 - mse: 7.8272 - root_mean_squared_error: 2.7977 - mean_absolute_percentage_error: 24.1641 - val_loss: 4.0557 - val_mse: 4.0557 - val_root_mean_squared_error: 2.0139 - val_mean_absolute_percentage_error: 16.8475\n",
      "Epoch 41/300\n",
      "71/71 [==============================] - 0s 2ms/step - loss: 8.0275 - mse: 8.0275 - root_mean_squared_error: 2.8333 - mean_absolute_percentage_error: 23.9089 - val_loss: 4.4555 - val_mse: 4.4555 - val_root_mean_squared_error: 2.1108 - val_mean_absolute_percentage_error: 16.5047\n",
      "Epoch 42/300\n",
      "71/71 [==============================] - 0s 3ms/step - loss: 7.7650 - mse: 7.7650 - root_mean_squared_error: 2.7866 - mean_absolute_percentage_error: 23.9854 - val_loss: 4.1371 - val_mse: 4.1371 - val_root_mean_squared_error: 2.0340 - val_mean_absolute_percentage_error: 16.5797\n",
      "Epoch 43/300\n",
      "71/71 [==============================] - 0s 4ms/step - loss: 8.0123 - mse: 8.0123 - root_mean_squared_error: 2.8306 - mean_absolute_percentage_error: 23.8275 - val_loss: 3.8905 - val_mse: 3.8905 - val_root_mean_squared_error: 1.9724 - val_mean_absolute_percentage_error: 16.9707\n",
      "Epoch 44/300\n",
      "71/71 [==============================] - 0s 3ms/step - loss: 7.7154 - mse: 7.7154 - root_mean_squared_error: 2.7777 - mean_absolute_percentage_error: 23.4327 - val_loss: 4.1412 - val_mse: 4.1412 - val_root_mean_squared_error: 2.0350 - val_mean_absolute_percentage_error: 16.3429\n",
      "Epoch 45/300\n",
      "71/71 [==============================] - 0s 3ms/step - loss: 7.8843 - mse: 7.8843 - root_mean_squared_error: 2.8079 - mean_absolute_percentage_error: 23.7847 - val_loss: 4.4594 - val_mse: 4.4594 - val_root_mean_squared_error: 2.1117 - val_mean_absolute_percentage_error: 16.8829\n",
      "Epoch 46/300\n",
      "71/71 [==============================] - 0s 2ms/step - loss: 7.6082 - mse: 7.6082 - root_mean_squared_error: 2.7583 - mean_absolute_percentage_error: 23.6594 - val_loss: 4.0858 - val_mse: 4.0858 - val_root_mean_squared_error: 2.0213 - val_mean_absolute_percentage_error: 16.6139\n",
      "Epoch 47/300\n",
      "71/71 [==============================] - 0s 3ms/step - loss: 7.8341 - mse: 7.8341 - root_mean_squared_error: 2.7989 - mean_absolute_percentage_error: 23.6724 - val_loss: 3.8846 - val_mse: 3.8846 - val_root_mean_squared_error: 1.9709 - val_mean_absolute_percentage_error: 16.7073\n",
      "Epoch 48/300\n",
      "71/71 [==============================] - 0s 2ms/step - loss: 7.7030 - mse: 7.7030 - root_mean_squared_error: 2.7754 - mean_absolute_percentage_error: 23.5011 - val_loss: 3.8298 - val_mse: 3.8298 - val_root_mean_squared_error: 1.9570 - val_mean_absolute_percentage_error: 16.4167\n",
      "Epoch 49/300\n",
      "71/71 [==============================] - 0s 3ms/step - loss: 7.4719 - mse: 7.4719 - root_mean_squared_error: 2.7335 - mean_absolute_percentage_error: 22.9567 - val_loss: 4.8855 - val_mse: 4.8855 - val_root_mean_squared_error: 2.2103 - val_mean_absolute_percentage_error: 17.0813\n",
      "Epoch 50/300\n",
      "71/71 [==============================] - 0s 2ms/step - loss: 7.4326 - mse: 7.4326 - root_mean_squared_error: 2.7263 - mean_absolute_percentage_error: 23.1788 - val_loss: 4.0024 - val_mse: 4.0024 - val_root_mean_squared_error: 2.0006 - val_mean_absolute_percentage_error: 16.5149\n",
      "Epoch 51/300\n",
      "71/71 [==============================] - 0s 2ms/step - loss: 7.5074 - mse: 7.5074 - root_mean_squared_error: 2.7400 - mean_absolute_percentage_error: 23.2714 - val_loss: 3.9677 - val_mse: 3.9677 - val_root_mean_squared_error: 1.9919 - val_mean_absolute_percentage_error: 16.4869\n",
      "Epoch 52/300\n",
      "71/71 [==============================] - 0s 2ms/step - loss: 7.2959 - mse: 7.2959 - root_mean_squared_error: 2.7011 - mean_absolute_percentage_error: 22.7265 - val_loss: 4.1697 - val_mse: 4.1697 - val_root_mean_squared_error: 2.0420 - val_mean_absolute_percentage_error: 16.5872\n",
      "Epoch 53/300\n",
      "71/71 [==============================] - 0s 2ms/step - loss: 7.1601 - mse: 7.1601 - root_mean_squared_error: 2.6758 - mean_absolute_percentage_error: 23.0342 - val_loss: 4.2096 - val_mse: 4.2096 - val_root_mean_squared_error: 2.0517 - val_mean_absolute_percentage_error: 16.5934\n",
      "Epoch 54/300\n",
      "71/71 [==============================] - 0s 2ms/step - loss: 7.1142 - mse: 7.1142 - root_mean_squared_error: 2.6672 - mean_absolute_percentage_error: 22.9289 - val_loss: 4.2463 - val_mse: 4.2463 - val_root_mean_squared_error: 2.0607 - val_mean_absolute_percentage_error: 16.3903\n",
      "Epoch 55/300\n",
      "71/71 [==============================] - 0s 2ms/step - loss: 7.4551 - mse: 7.4551 - root_mean_squared_error: 2.7304 - mean_absolute_percentage_error: 23.1871 - val_loss: 4.0144 - val_mse: 4.0144 - val_root_mean_squared_error: 2.0036 - val_mean_absolute_percentage_error: 17.3424\n",
      "Epoch 56/300\n",
      "71/71 [==============================] - 0s 2ms/step - loss: 7.4571 - mse: 7.4571 - root_mean_squared_error: 2.7308 - mean_absolute_percentage_error: 23.2274 - val_loss: 4.1966 - val_mse: 4.1966 - val_root_mean_squared_error: 2.0486 - val_mean_absolute_percentage_error: 16.6871\n",
      "Epoch 57/300\n"
     ]
    },
    {
     "name": "stdout",
     "output_type": "stream",
     "text": [
      "71/71 [==============================] - 0s 2ms/step - loss: 7.1458 - mse: 7.1458 - root_mean_squared_error: 2.6732 - mean_absolute_percentage_error: 22.9193 - val_loss: 3.8388 - val_mse: 3.8388 - val_root_mean_squared_error: 1.9593 - val_mean_absolute_percentage_error: 16.3008\n",
      "Epoch 58/300\n",
      "71/71 [==============================] - 0s 2ms/step - loss: 7.0566 - mse: 7.0566 - root_mean_squared_error: 2.6564 - mean_absolute_percentage_error: 22.3759 - val_loss: 4.0936 - val_mse: 4.0936 - val_root_mean_squared_error: 2.0233 - val_mean_absolute_percentage_error: 16.1401\n",
      "Epoch 59/300\n",
      "71/71 [==============================] - 0s 2ms/step - loss: 7.0751 - mse: 7.0751 - root_mean_squared_error: 2.6599 - mean_absolute_percentage_error: 22.3420 - val_loss: 3.9216 - val_mse: 3.9216 - val_root_mean_squared_error: 1.9803 - val_mean_absolute_percentage_error: 16.3898\n",
      "Epoch 60/300\n",
      "71/71 [==============================] - 0s 3ms/step - loss: 7.2435 - mse: 7.2435 - root_mean_squared_error: 2.6914 - mean_absolute_percentage_error: 22.7861 - val_loss: 3.9488 - val_mse: 3.9488 - val_root_mean_squared_error: 1.9872 - val_mean_absolute_percentage_error: 15.9612\n",
      "Epoch 61/300\n",
      "71/71 [==============================] - 0s 3ms/step - loss: 6.9644 - mse: 6.9644 - root_mean_squared_error: 2.6390 - mean_absolute_percentage_error: 22.0199 - val_loss: 3.8724 - val_mse: 3.8724 - val_root_mean_squared_error: 1.9678 - val_mean_absolute_percentage_error: 16.3531\n",
      "Epoch 62/300\n",
      "71/71 [==============================] - 0s 2ms/step - loss: 6.8108 - mse: 6.8108 - root_mean_squared_error: 2.6098 - mean_absolute_percentage_error: 22.1876 - val_loss: 4.0395 - val_mse: 4.0395 - val_root_mean_squared_error: 2.0098 - val_mean_absolute_percentage_error: 16.7975\n",
      "Epoch 63/300\n",
      "71/71 [==============================] - 0s 2ms/step - loss: 7.0719 - mse: 7.0719 - root_mean_squared_error: 2.6593 - mean_absolute_percentage_error: 22.1428 - val_loss: 4.7437 - val_mse: 4.7437 - val_root_mean_squared_error: 2.1780 - val_mean_absolute_percentage_error: 16.6110\n",
      "Epoch 64/300\n",
      "71/71 [==============================] - 0s 2ms/step - loss: 6.6031 - mse: 6.6031 - root_mean_squared_error: 2.5696 - mean_absolute_percentage_error: 21.7445 - val_loss: 3.8790 - val_mse: 3.8790 - val_root_mean_squared_error: 1.9695 - val_mean_absolute_percentage_error: 16.6522\n",
      "Epoch 65/300\n",
      "71/71 [==============================] - 0s 2ms/step - loss: 6.7968 - mse: 6.7968 - root_mean_squared_error: 2.6071 - mean_absolute_percentage_error: 22.3123 - val_loss: 4.1851 - val_mse: 4.1851 - val_root_mean_squared_error: 2.0458 - val_mean_absolute_percentage_error: 16.1193\n",
      "Epoch 66/300\n",
      "71/71 [==============================] - 0s 2ms/step - loss: 6.6054 - mse: 6.6054 - root_mean_squared_error: 2.5701 - mean_absolute_percentage_error: 21.9667 - val_loss: 4.0334 - val_mse: 4.0334 - val_root_mean_squared_error: 2.0083 - val_mean_absolute_percentage_error: 16.0628\n",
      "Epoch 67/300\n",
      "71/71 [==============================] - 0s 2ms/step - loss: 6.5411 - mse: 6.5411 - root_mean_squared_error: 2.5576 - mean_absolute_percentage_error: 21.4806 - val_loss: 3.8889 - val_mse: 3.8889 - val_root_mean_squared_error: 1.9720 - val_mean_absolute_percentage_error: 16.3025\n",
      "Epoch 68/300\n",
      "71/71 [==============================] - 0s 2ms/step - loss: 6.5496 - mse: 6.5496 - root_mean_squared_error: 2.5592 - mean_absolute_percentage_error: 21.7109 - val_loss: 3.8675 - val_mse: 3.8675 - val_root_mean_squared_error: 1.9666 - val_mean_absolute_percentage_error: 16.9202\n",
      "Epoch 69/300\n",
      "71/71 [==============================] - 0s 2ms/step - loss: 6.4426 - mse: 6.4426 - root_mean_squared_error: 2.5382 - mean_absolute_percentage_error: 21.0232 - val_loss: 3.8997 - val_mse: 3.8997 - val_root_mean_squared_error: 1.9748 - val_mean_absolute_percentage_error: 16.2763\n",
      "Epoch 70/300\n",
      "71/71 [==============================] - 0s 2ms/step - loss: 6.5852 - mse: 6.5852 - root_mean_squared_error: 2.5662 - mean_absolute_percentage_error: 21.6788 - val_loss: 3.8707 - val_mse: 3.8707 - val_root_mean_squared_error: 1.9674 - val_mean_absolute_percentage_error: 16.3458\n",
      "Epoch 71/300\n",
      "71/71 [==============================] - 0s 2ms/step - loss: 6.3676 - mse: 6.3676 - root_mean_squared_error: 2.5234 - mean_absolute_percentage_error: 21.2429 - val_loss: 3.8914 - val_mse: 3.8914 - val_root_mean_squared_error: 1.9727 - val_mean_absolute_percentage_error: 16.2345\n",
      "Epoch 72/300\n",
      "71/71 [==============================] - 0s 3ms/step - loss: 6.0426 - mse: 6.0426 - root_mean_squared_error: 2.4582 - mean_absolute_percentage_error: 20.9842 - val_loss: 3.6978 - val_mse: 3.6978 - val_root_mean_squared_error: 1.9230 - val_mean_absolute_percentage_error: 16.3357\n",
      "Epoch 73/300\n",
      "71/71 [==============================] - 0s 4ms/step - loss: 6.0146 - mse: 6.0146 - root_mean_squared_error: 2.4525 - mean_absolute_percentage_error: 20.6721 - val_loss: 3.6928 - val_mse: 3.6928 - val_root_mean_squared_error: 1.9217 - val_mean_absolute_percentage_error: 16.0906\n",
      "Epoch 74/300\n",
      "71/71 [==============================] - 0s 4ms/step - loss: 6.2784 - mse: 6.2784 - root_mean_squared_error: 2.5057 - mean_absolute_percentage_error: 21.3827 - val_loss: 4.0793 - val_mse: 4.0793 - val_root_mean_squared_error: 2.0197 - val_mean_absolute_percentage_error: 16.3204\n",
      "Epoch 75/300\n",
      "71/71 [==============================] - 0s 4ms/step - loss: 6.2243 - mse: 6.2243 - root_mean_squared_error: 2.4949 - mean_absolute_percentage_error: 21.0116 - val_loss: 4.2652 - val_mse: 4.2652 - val_root_mean_squared_error: 2.0652 - val_mean_absolute_percentage_error: 16.2578\n",
      "Epoch 76/300\n",
      "71/71 [==============================] - 0s 4ms/step - loss: 6.1058 - mse: 6.1058 - root_mean_squared_error: 2.4710 - mean_absolute_percentage_error: 20.7607 - val_loss: 4.2198 - val_mse: 4.2198 - val_root_mean_squared_error: 2.0542 - val_mean_absolute_percentage_error: 16.4858\n",
      "Epoch 77/300\n",
      "71/71 [==============================] - 0s 3ms/step - loss: 5.9247 - mse: 5.9247 - root_mean_squared_error: 2.4341 - mean_absolute_percentage_error: 20.3762 - val_loss: 3.9236 - val_mse: 3.9236 - val_root_mean_squared_error: 1.9808 - val_mean_absolute_percentage_error: 16.1072\n",
      "Epoch 78/300\n",
      "71/71 [==============================] - 0s 3ms/step - loss: 6.2548 - mse: 6.2548 - root_mean_squared_error: 2.5010 - mean_absolute_percentage_error: 20.7705 - val_loss: 3.9234 - val_mse: 3.9234 - val_root_mean_squared_error: 1.9808 - val_mean_absolute_percentage_error: 16.0392\n",
      "Epoch 79/300\n",
      "71/71 [==============================] - 0s 3ms/step - loss: 6.2018 - mse: 6.2018 - root_mean_squared_error: 2.4903 - mean_absolute_percentage_error: 20.5993 - val_loss: 3.7981 - val_mse: 3.7981 - val_root_mean_squared_error: 1.9489 - val_mean_absolute_percentage_error: 15.8340\n",
      "Epoch 80/300\n",
      "71/71 [==============================] - 0s 3ms/step - loss: 5.8873 - mse: 5.8873 - root_mean_squared_error: 2.4264 - mean_absolute_percentage_error: 20.3585 - val_loss: 4.0398 - val_mse: 4.0398 - val_root_mean_squared_error: 2.0099 - val_mean_absolute_percentage_error: 16.1302\n",
      "Epoch 81/300\n",
      "71/71 [==============================] - 0s 4ms/step - loss: 5.9698 - mse: 5.9698 - root_mean_squared_error: 2.4433 - mean_absolute_percentage_error: 20.8505 - val_loss: 3.9301 - val_mse: 3.9301 - val_root_mean_squared_error: 1.9825 - val_mean_absolute_percentage_error: 15.9676\n",
      "Epoch 82/300\n",
      "71/71 [==============================] - 0s 3ms/step - loss: 5.9152 - mse: 5.9152 - root_mean_squared_error: 2.4321 - mean_absolute_percentage_error: 20.0849 - val_loss: 3.8346 - val_mse: 3.8346 - val_root_mean_squared_error: 1.9582 - val_mean_absolute_percentage_error: 16.0737\n",
      "Epoch 83/300\n",
      "71/71 [==============================] - 0s 2ms/step - loss: 5.7670 - mse: 5.7670 - root_mean_squared_error: 2.4015 - mean_absolute_percentage_error: 20.3261 - val_loss: 3.7324 - val_mse: 3.7324 - val_root_mean_squared_error: 1.9319 - val_mean_absolute_percentage_error: 15.8267\n",
      "Epoch 84/300\n",
      "71/71 [==============================] - 0s 2ms/step - loss: 5.7999 - mse: 5.7999 - root_mean_squared_error: 2.4083 - mean_absolute_percentage_error: 20.4570 - val_loss: 3.6891 - val_mse: 3.6891 - val_root_mean_squared_error: 1.9207 - val_mean_absolute_percentage_error: 15.6935\n",
      "Epoch 85/300\n"
     ]
    },
    {
     "name": "stdout",
     "output_type": "stream",
     "text": [
      "71/71 [==============================] - 0s 2ms/step - loss: 5.9134 - mse: 5.9134 - root_mean_squared_error: 2.4318 - mean_absolute_percentage_error: 20.9071 - val_loss: 3.8180 - val_mse: 3.8180 - val_root_mean_squared_error: 1.9540 - val_mean_absolute_percentage_error: 15.8094\n",
      "Epoch 86/300\n",
      "71/71 [==============================] - 0s 2ms/step - loss: 5.8046 - mse: 5.8046 - root_mean_squared_error: 2.4093 - mean_absolute_percentage_error: 19.9880 - val_loss: 3.9494 - val_mse: 3.9494 - val_root_mean_squared_error: 1.9873 - val_mean_absolute_percentage_error: 15.8738\n",
      "Epoch 87/300\n",
      "71/71 [==============================] - 0s 2ms/step - loss: 5.4921 - mse: 5.4921 - root_mean_squared_error: 2.3435 - mean_absolute_percentage_error: 19.3118 - val_loss: 4.1830 - val_mse: 4.1830 - val_root_mean_squared_error: 2.0452 - val_mean_absolute_percentage_error: 16.3365\n",
      "Epoch 88/300\n",
      "71/71 [==============================] - 0s 3ms/step - loss: 5.8784 - mse: 5.8784 - root_mean_squared_error: 2.4245 - mean_absolute_percentage_error: 20.1666 - val_loss: 3.9780 - val_mse: 3.9780 - val_root_mean_squared_error: 1.9945 - val_mean_absolute_percentage_error: 15.8902\n",
      "Epoch 89/300\n",
      "71/71 [==============================] - 0s 3ms/step - loss: 5.3739 - mse: 5.3739 - root_mean_squared_error: 2.3182 - mean_absolute_percentage_error: 19.3106 - val_loss: 3.7021 - val_mse: 3.7021 - val_root_mean_squared_error: 1.9241 - val_mean_absolute_percentage_error: 15.6861\n",
      "Epoch 90/300\n",
      "71/71 [==============================] - 0s 2ms/step - loss: 5.7701 - mse: 5.7701 - root_mean_squared_error: 2.4021 - mean_absolute_percentage_error: 19.5066 - val_loss: 3.9349 - val_mse: 3.9349 - val_root_mean_squared_error: 1.9837 - val_mean_absolute_percentage_error: 16.1740\n",
      "Epoch 91/300\n",
      "71/71 [==============================] - 0s 3ms/step - loss: 5.3886 - mse: 5.3886 - root_mean_squared_error: 2.3213 - mean_absolute_percentage_error: 19.4572 - val_loss: 3.7939 - val_mse: 3.7939 - val_root_mean_squared_error: 1.9478 - val_mean_absolute_percentage_error: 16.1594\n",
      "Epoch 92/300\n",
      "71/71 [==============================] - 0s 3ms/step - loss: 5.2169 - mse: 5.2169 - root_mean_squared_error: 2.2841 - mean_absolute_percentage_error: 19.5136 - val_loss: 3.7523 - val_mse: 3.7523 - val_root_mean_squared_error: 1.9371 - val_mean_absolute_percentage_error: 16.1211\n",
      "Epoch 93/300\n",
      "71/71 [==============================] - 0s 2ms/step - loss: 5.1674 - mse: 5.1674 - root_mean_squared_error: 2.2732 - mean_absolute_percentage_error: 18.9876 - val_loss: 3.8466 - val_mse: 3.8466 - val_root_mean_squared_error: 1.9613 - val_mean_absolute_percentage_error: 15.6062\n",
      "Epoch 94/300\n",
      "71/71 [==============================] - 0s 2ms/step - loss: 5.1472 - mse: 5.1472 - root_mean_squared_error: 2.2687 - mean_absolute_percentage_error: 18.7990 - val_loss: 3.6975 - val_mse: 3.6975 - val_root_mean_squared_error: 1.9229 - val_mean_absolute_percentage_error: 15.7278\n",
      "Epoch 95/300\n",
      "71/71 [==============================] - 0s 2ms/step - loss: 5.0878 - mse: 5.0878 - root_mean_squared_error: 2.2556 - mean_absolute_percentage_error: 19.1980 - val_loss: 3.8680 - val_mse: 3.8680 - val_root_mean_squared_error: 1.9667 - val_mean_absolute_percentage_error: 16.0199\n",
      "Epoch 96/300\n",
      "71/71 [==============================] - 0s 2ms/step - loss: 4.9964 - mse: 4.9964 - root_mean_squared_error: 2.2353 - mean_absolute_percentage_error: 18.5384 - val_loss: 3.9928 - val_mse: 3.9928 - val_root_mean_squared_error: 1.9982 - val_mean_absolute_percentage_error: 16.5689\n",
      "Epoch 97/300\n",
      "71/71 [==============================] - 0s 2ms/step - loss: 5.1728 - mse: 5.1728 - root_mean_squared_error: 2.2744 - mean_absolute_percentage_error: 18.9249 - val_loss: 3.9104 - val_mse: 3.9104 - val_root_mean_squared_error: 1.9775 - val_mean_absolute_percentage_error: 16.1171\n",
      "Epoch 98/300\n",
      "71/71 [==============================] - 0s 2ms/step - loss: 5.2420 - mse: 5.2420 - root_mean_squared_error: 2.2895 - mean_absolute_percentage_error: 18.9134 - val_loss: 3.8916 - val_mse: 3.8916 - val_root_mean_squared_error: 1.9727 - val_mean_absolute_percentage_error: 16.0196\n",
      "Epoch 99/300\n",
      "71/71 [==============================] - 0s 2ms/step - loss: 5.4660 - mse: 5.4660 - root_mean_squared_error: 2.3380 - mean_absolute_percentage_error: 19.5526 - val_loss: 4.3906 - val_mse: 4.3906 - val_root_mean_squared_error: 2.0954 - val_mean_absolute_percentage_error: 16.5227\n",
      "Epoch 100/300\n",
      "71/71 [==============================] - 0s 4ms/step - loss: 5.0092 - mse: 5.0092 - root_mean_squared_error: 2.2381 - mean_absolute_percentage_error: 19.1520 - val_loss: 3.8115 - val_mse: 3.8115 - val_root_mean_squared_error: 1.9523 - val_mean_absolute_percentage_error: 16.2375\n",
      "Epoch 101/300\n",
      "71/71 [==============================] - 0s 4ms/step - loss: 5.2534 - mse: 5.2534 - root_mean_squared_error: 2.2920 - mean_absolute_percentage_error: 18.9307 - val_loss: 3.7789 - val_mse: 3.7789 - val_root_mean_squared_error: 1.9439 - val_mean_absolute_percentage_error: 16.4141\n",
      "Epoch 102/300\n",
      "71/71 [==============================] - 0s 3ms/step - loss: 4.9437 - mse: 4.9437 - root_mean_squared_error: 2.2234 - mean_absolute_percentage_error: 18.8324 - val_loss: 3.8582 - val_mse: 3.8582 - val_root_mean_squared_error: 1.9642 - val_mean_absolute_percentage_error: 16.2034\n",
      "Epoch 103/300\n",
      "71/71 [==============================] - 0s 4ms/step - loss: 4.9816 - mse: 4.9816 - root_mean_squared_error: 2.2319 - mean_absolute_percentage_error: 18.7570 - val_loss: 4.3321 - val_mse: 4.3321 - val_root_mean_squared_error: 2.0814 - val_mean_absolute_percentage_error: 16.5431\n",
      "Epoch 104/300\n",
      "71/71 [==============================] - 0s 3ms/step - loss: 5.1664 - mse: 5.1664 - root_mean_squared_error: 2.2730 - mean_absolute_percentage_error: 18.8765 - val_loss: 3.4906 - val_mse: 3.4906 - val_root_mean_squared_error: 1.8683 - val_mean_absolute_percentage_error: 15.7806\n",
      "Epoch 105/300\n",
      "71/71 [==============================] - 0s 2ms/step - loss: 4.9248 - mse: 4.9248 - root_mean_squared_error: 2.2192 - mean_absolute_percentage_error: 18.5411 - val_loss: 3.7818 - val_mse: 3.7818 - val_root_mean_squared_error: 1.9447 - val_mean_absolute_percentage_error: 15.4743\n",
      "Epoch 106/300\n",
      "71/71 [==============================] - 0s 2ms/step - loss: 5.0438 - mse: 5.0438 - root_mean_squared_error: 2.2458 - mean_absolute_percentage_error: 18.7151 - val_loss: 3.6811 - val_mse: 3.6811 - val_root_mean_squared_error: 1.9186 - val_mean_absolute_percentage_error: 15.7010\n",
      "Epoch 107/300\n",
      "71/71 [==============================] - 0s 2ms/step - loss: 4.9664 - mse: 4.9664 - root_mean_squared_error: 2.2285 - mean_absolute_percentage_error: 18.4374 - val_loss: 3.6868 - val_mse: 3.6868 - val_root_mean_squared_error: 1.9201 - val_mean_absolute_percentage_error: 16.6642\n",
      "Epoch 108/300\n",
      "71/71 [==============================] - 0s 2ms/step - loss: 4.6107 - mse: 4.6107 - root_mean_squared_error: 2.1473 - mean_absolute_percentage_error: 18.1973 - val_loss: 3.7383 - val_mse: 3.7383 - val_root_mean_squared_error: 1.9335 - val_mean_absolute_percentage_error: 15.9163\n",
      "Epoch 109/300\n",
      "71/71 [==============================] - 0s 3ms/step - loss: 4.9754 - mse: 4.9754 - root_mean_squared_error: 2.2306 - mean_absolute_percentage_error: 18.4370 - val_loss: 3.5106 - val_mse: 3.5106 - val_root_mean_squared_error: 1.8737 - val_mean_absolute_percentage_error: 15.6156\n",
      "Epoch 110/300\n",
      "71/71 [==============================] - 0s 3ms/step - loss: 4.6935 - mse: 4.6935 - root_mean_squared_error: 2.1665 - mean_absolute_percentage_error: 18.0599 - val_loss: 3.7354 - val_mse: 3.7354 - val_root_mean_squared_error: 1.9327 - val_mean_absolute_percentage_error: 15.6880\n",
      "Epoch 111/300\n",
      "71/71 [==============================] - 0s 2ms/step - loss: 4.4297 - mse: 4.4297 - root_mean_squared_error: 2.1047 - mean_absolute_percentage_error: 17.7591 - val_loss: 3.8247 - val_mse: 3.8247 - val_root_mean_squared_error: 1.9557 - val_mean_absolute_percentage_error: 15.7835\n",
      "Epoch 112/300\n",
      "71/71 [==============================] - 0s 4ms/step - loss: 4.8035 - mse: 4.8035 - root_mean_squared_error: 2.1917 - mean_absolute_percentage_error: 18.0159 - val_loss: 3.7291 - val_mse: 3.7291 - val_root_mean_squared_error: 1.9311 - val_mean_absolute_percentage_error: 16.1076\n",
      "Epoch 113/300\n"
     ]
    },
    {
     "name": "stdout",
     "output_type": "stream",
     "text": [
      "71/71 [==============================] - 0s 3ms/step - loss: 4.8061 - mse: 4.8061 - root_mean_squared_error: 2.1923 - mean_absolute_percentage_error: 18.2854 - val_loss: 3.7489 - val_mse: 3.7489 - val_root_mean_squared_error: 1.9362 - val_mean_absolute_percentage_error: 15.7968\n",
      "Epoch 114/300\n",
      "71/71 [==============================] - 0s 4ms/step - loss: 4.9228 - mse: 4.9228 - root_mean_squared_error: 2.2187 - mean_absolute_percentage_error: 18.0308 - val_loss: 3.6403 - val_mse: 3.6403 - val_root_mean_squared_error: 1.9080 - val_mean_absolute_percentage_error: 15.8320\n",
      "Epoch 115/300\n",
      "71/71 [==============================] - 0s 3ms/step - loss: 4.6285 - mse: 4.6285 - root_mean_squared_error: 2.1514 - mean_absolute_percentage_error: 17.8269 - val_loss: 4.0057 - val_mse: 4.0057 - val_root_mean_squared_error: 2.0014 - val_mean_absolute_percentage_error: 15.8242\n",
      "Epoch 116/300\n",
      "71/71 [==============================] - 0s 4ms/step - loss: 4.6683 - mse: 4.6683 - root_mean_squared_error: 2.1606 - mean_absolute_percentage_error: 17.7182 - val_loss: 3.8775 - val_mse: 3.8775 - val_root_mean_squared_error: 1.9691 - val_mean_absolute_percentage_error: 15.9845\n",
      "Epoch 117/300\n",
      "71/71 [==============================] - 0s 4ms/step - loss: 4.5995 - mse: 4.5995 - root_mean_squared_error: 2.1446 - mean_absolute_percentage_error: 17.8770 - val_loss: 3.8859 - val_mse: 3.8859 - val_root_mean_squared_error: 1.9713 - val_mean_absolute_percentage_error: 15.9290\n",
      "Epoch 118/300\n",
      "71/71 [==============================] - 0s 2ms/step - loss: 4.7577 - mse: 4.7577 - root_mean_squared_error: 2.1812 - mean_absolute_percentage_error: 17.9279 - val_loss: 3.7291 - val_mse: 3.7291 - val_root_mean_squared_error: 1.9311 - val_mean_absolute_percentage_error: 15.9236\n",
      "Epoch 119/300\n",
      "71/71 [==============================] - 0s 4ms/step - loss: 4.3712 - mse: 4.3712 - root_mean_squared_error: 2.0907 - mean_absolute_percentage_error: 17.4039 - val_loss: 3.8807 - val_mse: 3.8807 - val_root_mean_squared_error: 1.9699 - val_mean_absolute_percentage_error: 16.2995\n",
      "Epoch 120/300\n",
      "71/71 [==============================] - 0s 3ms/step - loss: 4.4375 - mse: 4.4375 - root_mean_squared_error: 2.1065 - mean_absolute_percentage_error: 17.5374 - val_loss: 4.0632 - val_mse: 4.0632 - val_root_mean_squared_error: 2.0157 - val_mean_absolute_percentage_error: 16.1916\n",
      "Epoch 121/300\n",
      "71/71 [==============================] - 0s 4ms/step - loss: 4.2161 - mse: 4.2161 - root_mean_squared_error: 2.0533 - mean_absolute_percentage_error: 17.1235 - val_loss: 3.8740 - val_mse: 3.8740 - val_root_mean_squared_error: 1.9682 - val_mean_absolute_percentage_error: 15.8955\n",
      "Epoch 122/300\n",
      "71/71 [==============================] - 0s 3ms/step - loss: 4.7075 - mse: 4.7075 - root_mean_squared_error: 2.1697 - mean_absolute_percentage_error: 17.6236 - val_loss: 3.6354 - val_mse: 3.6354 - val_root_mean_squared_error: 1.9067 - val_mean_absolute_percentage_error: 16.0322\n",
      "Epoch 123/300\n",
      "71/71 [==============================] - 0s 4ms/step - loss: 4.2016 - mse: 4.2016 - root_mean_squared_error: 2.0498 - mean_absolute_percentage_error: 17.3927 - val_loss: 3.5629 - val_mse: 3.5629 - val_root_mean_squared_error: 1.8876 - val_mean_absolute_percentage_error: 15.8046\n",
      "Epoch 124/300\n",
      "71/71 [==============================] - 0s 4ms/step - loss: 4.2863 - mse: 4.2863 - root_mean_squared_error: 2.0703 - mean_absolute_percentage_error: 17.2081 - val_loss: 3.4933 - val_mse: 3.4933 - val_root_mean_squared_error: 1.8690 - val_mean_absolute_percentage_error: 16.2087\n",
      "Epoch 125/300\n",
      "71/71 [==============================] - 0s 2ms/step - loss: 4.2188 - mse: 4.2188 - root_mean_squared_error: 2.0540 - mean_absolute_percentage_error: 17.0409 - val_loss: 3.5647 - val_mse: 3.5647 - val_root_mean_squared_error: 1.8880 - val_mean_absolute_percentage_error: 15.7333\n",
      "Epoch 126/300\n",
      "71/71 [==============================] - 0s 2ms/step - loss: 4.3974 - mse: 4.3974 - root_mean_squared_error: 2.0970 - mean_absolute_percentage_error: 16.9936 - val_loss: 3.6207 - val_mse: 3.6207 - val_root_mean_squared_error: 1.9028 - val_mean_absolute_percentage_error: 16.2851\n",
      "Epoch 127/300\n",
      "71/71 [==============================] - 0s 3ms/step - loss: 4.3704 - mse: 4.3704 - root_mean_squared_error: 2.0905 - mean_absolute_percentage_error: 17.4019 - val_loss: 3.5263 - val_mse: 3.5263 - val_root_mean_squared_error: 1.8778 - val_mean_absolute_percentage_error: 16.0039\n",
      "Epoch 128/300\n",
      "71/71 [==============================] - 0s 3ms/step - loss: 4.1541 - mse: 4.1541 - root_mean_squared_error: 2.0382 - mean_absolute_percentage_error: 16.6267 - val_loss: 3.9419 - val_mse: 3.9419 - val_root_mean_squared_error: 1.9854 - val_mean_absolute_percentage_error: 16.3119\n",
      "Epoch 129/300\n",
      "71/71 [==============================] - 0s 3ms/step - loss: 4.1809 - mse: 4.1809 - root_mean_squared_error: 2.0447 - mean_absolute_percentage_error: 16.8865 - val_loss: 3.9012 - val_mse: 3.9012 - val_root_mean_squared_error: 1.9752 - val_mean_absolute_percentage_error: 16.1993\n",
      "Epoch 130/300\n",
      "71/71 [==============================] - 0s 3ms/step - loss: 4.0515 - mse: 4.0515 - root_mean_squared_error: 2.0128 - mean_absolute_percentage_error: 16.4037 - val_loss: 3.9290 - val_mse: 3.9290 - val_root_mean_squared_error: 1.9822 - val_mean_absolute_percentage_error: 16.0280\n",
      "Epoch 131/300\n",
      "71/71 [==============================] - 0s 2ms/step - loss: 3.9047 - mse: 3.9047 - root_mean_squared_error: 1.9760 - mean_absolute_percentage_error: 16.4265 - val_loss: 3.6030 - val_mse: 3.6030 - val_root_mean_squared_error: 1.8981 - val_mean_absolute_percentage_error: 15.5878\n",
      "Epoch 132/300\n",
      "71/71 [==============================] - 0s 2ms/step - loss: 4.2469 - mse: 4.2469 - root_mean_squared_error: 2.0608 - mean_absolute_percentage_error: 16.9634 - val_loss: 3.5755 - val_mse: 3.5755 - val_root_mean_squared_error: 1.8909 - val_mean_absolute_percentage_error: 16.0553\n",
      "Epoch 133/300\n",
      "71/71 [==============================] - 0s 2ms/step - loss: 4.3741 - mse: 4.3741 - root_mean_squared_error: 2.0914 - mean_absolute_percentage_error: 17.1556 - val_loss: 3.7733 - val_mse: 3.7733 - val_root_mean_squared_error: 1.9425 - val_mean_absolute_percentage_error: 15.8617\n",
      "Epoch 134/300\n",
      "71/71 [==============================] - 0s 4ms/step - loss: 4.0343 - mse: 4.0343 - root_mean_squared_error: 2.0086 - mean_absolute_percentage_error: 17.0312 - val_loss: 3.6904 - val_mse: 3.6904 - val_root_mean_squared_error: 1.9210 - val_mean_absolute_percentage_error: 15.8167\n",
      "Epoch 135/300\n",
      "71/71 [==============================] - 0s 4ms/step - loss: 3.7426 - mse: 3.7426 - root_mean_squared_error: 1.9346 - mean_absolute_percentage_error: 16.5958 - val_loss: 3.5833 - val_mse: 3.5833 - val_root_mean_squared_error: 1.8930 - val_mean_absolute_percentage_error: 15.9029\n",
      "Epoch 136/300\n",
      "71/71 [==============================] - 0s 3ms/step - loss: 3.8059 - mse: 3.8059 - root_mean_squared_error: 1.9509 - mean_absolute_percentage_error: 16.4959 - val_loss: 3.4305 - val_mse: 3.4305 - val_root_mean_squared_error: 1.8522 - val_mean_absolute_percentage_error: 15.5953\n",
      "Epoch 137/300\n",
      "71/71 [==============================] - 0s 2ms/step - loss: 4.0486 - mse: 4.0486 - root_mean_squared_error: 2.0121 - mean_absolute_percentage_error: 16.8149 - val_loss: 3.5387 - val_mse: 3.5387 - val_root_mean_squared_error: 1.8812 - val_mean_absolute_percentage_error: 15.5284\n",
      "Epoch 138/300\n",
      "71/71 [==============================] - 0s 2ms/step - loss: 4.2284 - mse: 4.2284 - root_mean_squared_error: 2.0563 - mean_absolute_percentage_error: 16.6815 - val_loss: 3.5485 - val_mse: 3.5485 - val_root_mean_squared_error: 1.8837 - val_mean_absolute_percentage_error: 15.6279\n",
      "Epoch 139/300\n",
      "71/71 [==============================] - 0s 2ms/step - loss: 4.0592 - mse: 4.0592 - root_mean_squared_error: 2.0147 - mean_absolute_percentage_error: 16.6371 - val_loss: 3.4881 - val_mse: 3.4881 - val_root_mean_squared_error: 1.8677 - val_mean_absolute_percentage_error: 15.8528\n",
      "Epoch 140/300\n",
      "71/71 [==============================] - 0s 3ms/step - loss: 3.8143 - mse: 3.8143 - root_mean_squared_error: 1.9530 - mean_absolute_percentage_error: 16.2824 - val_loss: 3.5111 - val_mse: 3.5111 - val_root_mean_squared_error: 1.8738 - val_mean_absolute_percentage_error: 15.8472\n",
      "Epoch 141/300\n"
     ]
    },
    {
     "name": "stdout",
     "output_type": "stream",
     "text": [
      "71/71 [==============================] - 0s 2ms/step - loss: 3.9426 - mse: 3.9426 - root_mean_squared_error: 1.9856 - mean_absolute_percentage_error: 16.0845 - val_loss: 3.5433 - val_mse: 3.5433 - val_root_mean_squared_error: 1.8824 - val_mean_absolute_percentage_error: 15.3136\n",
      "Epoch 142/300\n",
      "71/71 [==============================] - 0s 2ms/step - loss: 3.7160 - mse: 3.7160 - root_mean_squared_error: 1.9277 - mean_absolute_percentage_error: 16.2110 - val_loss: 3.6296 - val_mse: 3.6296 - val_root_mean_squared_error: 1.9051 - val_mean_absolute_percentage_error: 15.7790\n",
      "Epoch 143/300\n",
      "71/71 [==============================] - 0s 3ms/step - loss: 3.6966 - mse: 3.6966 - root_mean_squared_error: 1.9226 - mean_absolute_percentage_error: 15.8986 - val_loss: 3.6796 - val_mse: 3.6796 - val_root_mean_squared_error: 1.9182 - val_mean_absolute_percentage_error: 16.4395\n",
      "Epoch 144/300\n",
      "71/71 [==============================] - 0s 4ms/step - loss: 3.6847 - mse: 3.6847 - root_mean_squared_error: 1.9196 - mean_absolute_percentage_error: 15.8963 - val_loss: 3.5463 - val_mse: 3.5463 - val_root_mean_squared_error: 1.8831 - val_mean_absolute_percentage_error: 15.6907\n",
      "Epoch 145/300\n",
      "71/71 [==============================] - 0s 2ms/step - loss: 3.5075 - mse: 3.5075 - root_mean_squared_error: 1.8728 - mean_absolute_percentage_error: 16.1254 - val_loss: 3.6568 - val_mse: 3.6568 - val_root_mean_squared_error: 1.9123 - val_mean_absolute_percentage_error: 15.6579\n",
      "Epoch 146/300\n",
      "71/71 [==============================] - 0s 3ms/step - loss: 3.8178 - mse: 3.8178 - root_mean_squared_error: 1.9539 - mean_absolute_percentage_error: 16.1697 - val_loss: 3.7137 - val_mse: 3.7137 - val_root_mean_squared_error: 1.9271 - val_mean_absolute_percentage_error: 15.9215\n",
      "Epoch 147/300\n",
      "71/71 [==============================] - 0s 2ms/step - loss: 3.7895 - mse: 3.7895 - root_mean_squared_error: 1.9467 - mean_absolute_percentage_error: 16.6024 - val_loss: 3.6134 - val_mse: 3.6134 - val_root_mean_squared_error: 1.9009 - val_mean_absolute_percentage_error: 15.7386\n",
      "Epoch 148/300\n",
      "71/71 [==============================] - 0s 2ms/step - loss: 3.7655 - mse: 3.7655 - root_mean_squared_error: 1.9405 - mean_absolute_percentage_error: 16.2779 - val_loss: 3.5586 - val_mse: 3.5586 - val_root_mean_squared_error: 1.8864 - val_mean_absolute_percentage_error: 16.2534\n",
      "Epoch 149/300\n",
      "71/71 [==============================] - 0s 3ms/step - loss: 3.5789 - mse: 3.5789 - root_mean_squared_error: 1.8918 - mean_absolute_percentage_error: 15.5854 - val_loss: 3.6634 - val_mse: 3.6634 - val_root_mean_squared_error: 1.9140 - val_mean_absolute_percentage_error: 15.5214\n",
      "Epoch 150/300\n",
      "71/71 [==============================] - 0s 3ms/step - loss: 3.8093 - mse: 3.8093 - root_mean_squared_error: 1.9517 - mean_absolute_percentage_error: 16.3483 - val_loss: 3.6737 - val_mse: 3.6737 - val_root_mean_squared_error: 1.9167 - val_mean_absolute_percentage_error: 15.7792\n",
      "Epoch 151/300\n",
      "71/71 [==============================] - 0s 3ms/step - loss: 3.6442 - mse: 3.6442 - root_mean_squared_error: 1.9090 - mean_absolute_percentage_error: 15.8582 - val_loss: 3.6802 - val_mse: 3.6802 - val_root_mean_squared_error: 1.9184 - val_mean_absolute_percentage_error: 16.1882\n",
      "Epoch 152/300\n",
      "71/71 [==============================] - 0s 2ms/step - loss: 3.4335 - mse: 3.4335 - root_mean_squared_error: 1.8530 - mean_absolute_percentage_error: 15.7204 - val_loss: 3.4337 - val_mse: 3.4337 - val_root_mean_squared_error: 1.8530 - val_mean_absolute_percentage_error: 15.9665\n",
      "Epoch 153/300\n",
      "71/71 [==============================] - 0s 2ms/step - loss: 3.5608 - mse: 3.5608 - root_mean_squared_error: 1.8870 - mean_absolute_percentage_error: 15.5265 - val_loss: 3.5732 - val_mse: 3.5732 - val_root_mean_squared_error: 1.8903 - val_mean_absolute_percentage_error: 15.6013\n",
      "Epoch 154/300\n",
      "71/71 [==============================] - 0s 3ms/step - loss: 3.5180 - mse: 3.5180 - root_mean_squared_error: 1.8756 - mean_absolute_percentage_error: 15.8129 - val_loss: 3.8095 - val_mse: 3.8095 - val_root_mean_squared_error: 1.9518 - val_mean_absolute_percentage_error: 15.6573\n",
      "Epoch 155/300\n",
      "71/71 [==============================] - 0s 3ms/step - loss: 3.3461 - mse: 3.3461 - root_mean_squared_error: 1.8292 - mean_absolute_percentage_error: 15.3958 - val_loss: 3.5202 - val_mse: 3.5202 - val_root_mean_squared_error: 1.8762 - val_mean_absolute_percentage_error: 16.1356\n",
      "Epoch 156/300\n",
      "71/71 [==============================] - 0s 3ms/step - loss: 3.2432 - mse: 3.2432 - root_mean_squared_error: 1.8009 - mean_absolute_percentage_error: 15.1707 - val_loss: 3.6455 - val_mse: 3.6455 - val_root_mean_squared_error: 1.9093 - val_mean_absolute_percentage_error: 15.9453\n",
      "Epoch 157/300\n",
      "71/71 [==============================] - 0s 4ms/step - loss: 3.5600 - mse: 3.5600 - root_mean_squared_error: 1.8868 - mean_absolute_percentage_error: 16.0012 - val_loss: 3.4727 - val_mse: 3.4727 - val_root_mean_squared_error: 1.8635 - val_mean_absolute_percentage_error: 15.6631\n",
      "Epoch 158/300\n",
      "71/71 [==============================] - 0s 3ms/step - loss: 3.4993 - mse: 3.4993 - root_mean_squared_error: 1.8706 - mean_absolute_percentage_error: 15.7082 - val_loss: 3.5394 - val_mse: 3.5394 - val_root_mean_squared_error: 1.8813 - val_mean_absolute_percentage_error: 16.2370\n",
      "Epoch 159/300\n",
      "71/71 [==============================] - 0s 4ms/step - loss: 3.4975 - mse: 3.4975 - root_mean_squared_error: 1.8702 - mean_absolute_percentage_error: 15.5173 - val_loss: 3.6858 - val_mse: 3.6858 - val_root_mean_squared_error: 1.9198 - val_mean_absolute_percentage_error: 15.9079\n",
      "Epoch 160/300\n",
      "71/71 [==============================] - 0s 4ms/step - loss: 3.6034 - mse: 3.6034 - root_mean_squared_error: 1.8983 - mean_absolute_percentage_error: 15.4778 - val_loss: 3.5601 - val_mse: 3.5601 - val_root_mean_squared_error: 1.8868 - val_mean_absolute_percentage_error: 16.0970\n",
      "Epoch 161/300\n",
      "71/71 [==============================] - 0s 3ms/step - loss: 3.3748 - mse: 3.3748 - root_mean_squared_error: 1.8371 - mean_absolute_percentage_error: 15.2977 - val_loss: 3.6579 - val_mse: 3.6579 - val_root_mean_squared_error: 1.9126 - val_mean_absolute_percentage_error: 16.0088\n",
      "Epoch 162/300\n",
      "71/71 [==============================] - 0s 3ms/step - loss: 3.2723 - mse: 3.2723 - root_mean_squared_error: 1.8089 - mean_absolute_percentage_error: 15.5438 - val_loss: 3.7859 - val_mse: 3.7859 - val_root_mean_squared_error: 1.9457 - val_mean_absolute_percentage_error: 16.3503\n",
      "Epoch 163/300\n",
      "71/71 [==============================] - 0s 4ms/step - loss: 3.3492 - mse: 3.3492 - root_mean_squared_error: 1.8301 - mean_absolute_percentage_error: 15.5601 - val_loss: 3.8101 - val_mse: 3.8101 - val_root_mean_squared_error: 1.9519 - val_mean_absolute_percentage_error: 16.2161\n",
      "Epoch 164/300\n",
      "71/71 [==============================] - 0s 4ms/step - loss: 3.4895 - mse: 3.4895 - root_mean_squared_error: 1.8680 - mean_absolute_percentage_error: 15.5858 - val_loss: 3.5823 - val_mse: 3.5823 - val_root_mean_squared_error: 1.8927 - val_mean_absolute_percentage_error: 15.9471\n",
      "Epoch 165/300\n",
      "71/71 [==============================] - 0s 4ms/step - loss: 3.4697 - mse: 3.4697 - root_mean_squared_error: 1.8627 - mean_absolute_percentage_error: 15.7137 - val_loss: 3.9207 - val_mse: 3.9207 - val_root_mean_squared_error: 1.9801 - val_mean_absolute_percentage_error: 15.6816\n",
      "Epoch 166/300\n",
      "71/71 [==============================] - 0s 4ms/step - loss: 3.0828 - mse: 3.0828 - root_mean_squared_error: 1.7558 - mean_absolute_percentage_error: 15.2370 - val_loss: 3.5770 - val_mse: 3.5770 - val_root_mean_squared_error: 1.8913 - val_mean_absolute_percentage_error: 15.8515\n",
      "Epoch 167/300\n",
      "71/71 [==============================] - 0s 3ms/step - loss: 3.2844 - mse: 3.2844 - root_mean_squared_error: 1.8123 - mean_absolute_percentage_error: 15.4889 - val_loss: 3.6973 - val_mse: 3.6973 - val_root_mean_squared_error: 1.9228 - val_mean_absolute_percentage_error: 15.9376\n",
      "Epoch 168/300\n",
      "71/71 [==============================] - 0s 2ms/step - loss: 3.3308 - mse: 3.3308 - root_mean_squared_error: 1.8250 - mean_absolute_percentage_error: 15.3889 - val_loss: 3.6998 - val_mse: 3.6998 - val_root_mean_squared_error: 1.9235 - val_mean_absolute_percentage_error: 16.1477\n",
      "Epoch 169/300\n"
     ]
    },
    {
     "name": "stdout",
     "output_type": "stream",
     "text": [
      "71/71 [==============================] - 0s 2ms/step - loss: 3.4065 - mse: 3.4065 - root_mean_squared_error: 1.8457 - mean_absolute_percentage_error: 15.3374 - val_loss: 3.7881 - val_mse: 3.7881 - val_root_mean_squared_error: 1.9463 - val_mean_absolute_percentage_error: 16.1317\n",
      "Epoch 170/300\n",
      "71/71 [==============================] - 0s 2ms/step - loss: 3.3274 - mse: 3.3274 - root_mean_squared_error: 1.8241 - mean_absolute_percentage_error: 15.3954 - val_loss: 3.6087 - val_mse: 3.6087 - val_root_mean_squared_error: 1.8997 - val_mean_absolute_percentage_error: 15.5963\n",
      "Epoch 171/300\n",
      "71/71 [==============================] - 0s 2ms/step - loss: 3.0459 - mse: 3.0459 - root_mean_squared_error: 1.7453 - mean_absolute_percentage_error: 14.9812 - val_loss: 3.6027 - val_mse: 3.6027 - val_root_mean_squared_error: 1.8981 - val_mean_absolute_percentage_error: 15.8873\n",
      "Epoch 172/300\n",
      "71/71 [==============================] - 0s 2ms/step - loss: 3.2305 - mse: 3.2305 - root_mean_squared_error: 1.7973 - mean_absolute_percentage_error: 15.2639 - val_loss: 3.5927 - val_mse: 3.5927 - val_root_mean_squared_error: 1.8954 - val_mean_absolute_percentage_error: 16.1918\n",
      "Epoch 173/300\n",
      "71/71 [==============================] - 0s 3ms/step - loss: 3.1051 - mse: 3.1051 - root_mean_squared_error: 1.7621 - mean_absolute_percentage_error: 15.1833 - val_loss: 3.5281 - val_mse: 3.5281 - val_root_mean_squared_error: 1.8783 - val_mean_absolute_percentage_error: 15.7269\n",
      "Epoch 174/300\n",
      "71/71 [==============================] - 0s 4ms/step - loss: 3.1709 - mse: 3.1709 - root_mean_squared_error: 1.7807 - mean_absolute_percentage_error: 14.8432 - val_loss: 3.4508 - val_mse: 3.4508 - val_root_mean_squared_error: 1.8576 - val_mean_absolute_percentage_error: 15.9350\n",
      "Epoch 175/300\n",
      "71/71 [==============================] - 0s 3ms/step - loss: 3.2141 - mse: 3.2141 - root_mean_squared_error: 1.7928 - mean_absolute_percentage_error: 15.4456 - val_loss: 3.6898 - val_mse: 3.6898 - val_root_mean_squared_error: 1.9209 - val_mean_absolute_percentage_error: 15.7654\n",
      "Epoch 176/300\n",
      "71/71 [==============================] - 0s 4ms/step - loss: 3.1364 - mse: 3.1364 - root_mean_squared_error: 1.7710 - mean_absolute_percentage_error: 15.0975 - val_loss: 3.5155 - val_mse: 3.5155 - val_root_mean_squared_error: 1.8750 - val_mean_absolute_percentage_error: 15.6097\n",
      "Epoch 177/300\n",
      "71/71 [==============================] - 0s 4ms/step - loss: 2.9719 - mse: 2.9719 - root_mean_squared_error: 1.7239 - mean_absolute_percentage_error: 14.6961 - val_loss: 3.6083 - val_mse: 3.6083 - val_root_mean_squared_error: 1.8995 - val_mean_absolute_percentage_error: 15.5573\n",
      "Epoch 178/300\n",
      "71/71 [==============================] - 0s 3ms/step - loss: 3.0992 - mse: 3.0992 - root_mean_squared_error: 1.7605 - mean_absolute_percentage_error: 14.7690 - val_loss: 3.5473 - val_mse: 3.5473 - val_root_mean_squared_error: 1.8834 - val_mean_absolute_percentage_error: 15.8348\n",
      "Epoch 179/300\n",
      "71/71 [==============================] - 0s 5ms/step - loss: 2.9556 - mse: 2.9556 - root_mean_squared_error: 1.7192 - mean_absolute_percentage_error: 14.7507 - val_loss: 3.5489 - val_mse: 3.5489 - val_root_mean_squared_error: 1.8839 - val_mean_absolute_percentage_error: 15.7869\n",
      "Epoch 180/300\n",
      "71/71 [==============================] - 0s 3ms/step - loss: 2.7567 - mse: 2.7567 - root_mean_squared_error: 1.6603 - mean_absolute_percentage_error: 14.5710 - val_loss: 3.4142 - val_mse: 3.4142 - val_root_mean_squared_error: 1.8478 - val_mean_absolute_percentage_error: 16.2430\n",
      "Epoch 181/300\n",
      "71/71 [==============================] - 0s 3ms/step - loss: 3.0233 - mse: 3.0233 - root_mean_squared_error: 1.7388 - mean_absolute_percentage_error: 14.9429 - val_loss: 3.6085 - val_mse: 3.6085 - val_root_mean_squared_error: 1.8996 - val_mean_absolute_percentage_error: 15.7456\n",
      "Epoch 182/300\n",
      "71/71 [==============================] - 0s 4ms/step - loss: 3.0297 - mse: 3.0297 - root_mean_squared_error: 1.7406 - mean_absolute_percentage_error: 15.0867 - val_loss: 3.7711 - val_mse: 3.7711 - val_root_mean_squared_error: 1.9419 - val_mean_absolute_percentage_error: 15.5894\n",
      "Epoch 183/300\n",
      "71/71 [==============================] - 0s 2ms/step - loss: 2.9870 - mse: 2.9870 - root_mean_squared_error: 1.7283 - mean_absolute_percentage_error: 14.9149 - val_loss: 3.4900 - val_mse: 3.4900 - val_root_mean_squared_error: 1.8681 - val_mean_absolute_percentage_error: 15.5586\n",
      "Epoch 184/300\n",
      "71/71 [==============================] - 0s 3ms/step - loss: 3.0021 - mse: 3.0021 - root_mean_squared_error: 1.7327 - mean_absolute_percentage_error: 14.6122 - val_loss: 3.5486 - val_mse: 3.5486 - val_root_mean_squared_error: 1.8838 - val_mean_absolute_percentage_error: 15.8589\n",
      "Epoch 185/300\n",
      "71/71 [==============================] - 0s 3ms/step - loss: 3.0701 - mse: 3.0701 - root_mean_squared_error: 1.7522 - mean_absolute_percentage_error: 14.8451 - val_loss: 3.4128 - val_mse: 3.4128 - val_root_mean_squared_error: 1.8474 - val_mean_absolute_percentage_error: 15.2786\n",
      "Epoch 186/300\n",
      "71/71 [==============================] - 0s 4ms/step - loss: 3.1130 - mse: 3.1130 - root_mean_squared_error: 1.7644 - mean_absolute_percentage_error: 14.9606 - val_loss: 3.5614 - val_mse: 3.5614 - val_root_mean_squared_error: 1.8872 - val_mean_absolute_percentage_error: 15.4320\n",
      "Epoch 187/300\n",
      "71/71 [==============================] - 0s 4ms/step - loss: 3.0191 - mse: 3.0191 - root_mean_squared_error: 1.7375 - mean_absolute_percentage_error: 14.5535 - val_loss: 3.7109 - val_mse: 3.7109 - val_root_mean_squared_error: 1.9264 - val_mean_absolute_percentage_error: 15.6907\n",
      "Epoch 188/300\n",
      "71/71 [==============================] - 0s 3ms/step - loss: 2.9288 - mse: 2.9288 - root_mean_squared_error: 1.7114 - mean_absolute_percentage_error: 14.7413 - val_loss: 3.6155 - val_mse: 3.6155 - val_root_mean_squared_error: 1.9015 - val_mean_absolute_percentage_error: 15.8132\n",
      "Epoch 189/300\n",
      "71/71 [==============================] - 0s 5ms/step - loss: 2.8999 - mse: 2.8999 - root_mean_squared_error: 1.7029 - mean_absolute_percentage_error: 14.2516 - val_loss: 3.7641 - val_mse: 3.7641 - val_root_mean_squared_error: 1.9401 - val_mean_absolute_percentage_error: 15.8434\n",
      "Epoch 190/300\n",
      "71/71 [==============================] - 0s 3ms/step - loss: 2.9587 - mse: 2.9587 - root_mean_squared_error: 1.7201 - mean_absolute_percentage_error: 14.6495 - val_loss: 3.5463 - val_mse: 3.5463 - val_root_mean_squared_error: 1.8832 - val_mean_absolute_percentage_error: 15.8567\n",
      "Epoch 191/300\n",
      "71/71 [==============================] - 0s 2ms/step - loss: 2.9201 - mse: 2.9201 - root_mean_squared_error: 1.7088 - mean_absolute_percentage_error: 14.5599 - val_loss: 3.4930 - val_mse: 3.4930 - val_root_mean_squared_error: 1.8689 - val_mean_absolute_percentage_error: 15.4435\n",
      "Epoch 192/300\n",
      "71/71 [==============================] - 0s 3ms/step - loss: 2.7285 - mse: 2.7285 - root_mean_squared_error: 1.6518 - mean_absolute_percentage_error: 14.2980 - val_loss: 3.4748 - val_mse: 3.4748 - val_root_mean_squared_error: 1.8641 - val_mean_absolute_percentage_error: 15.6999\n",
      "Epoch 193/300\n",
      "71/71 [==============================] - 0s 3ms/step - loss: 2.7763 - mse: 2.7763 - root_mean_squared_error: 1.6662 - mean_absolute_percentage_error: 14.1568 - val_loss: 3.5134 - val_mse: 3.5134 - val_root_mean_squared_error: 1.8744 - val_mean_absolute_percentage_error: 15.9142\n",
      "Epoch 194/300\n",
      "71/71 [==============================] - 0s 3ms/step - loss: 2.8697 - mse: 2.8697 - root_mean_squared_error: 1.6940 - mean_absolute_percentage_error: 14.7489 - val_loss: 3.4836 - val_mse: 3.4836 - val_root_mean_squared_error: 1.8664 - val_mean_absolute_percentage_error: 15.9843\n",
      "Epoch 195/300\n",
      "71/71 [==============================] - 0s 2ms/step - loss: 3.0460 - mse: 3.0460 - root_mean_squared_error: 1.7453 - mean_absolute_percentage_error: 14.6899 - val_loss: 3.5063 - val_mse: 3.5063 - val_root_mean_squared_error: 1.8725 - val_mean_absolute_percentage_error: 15.9068\n",
      "Epoch 196/300\n",
      "71/71 [==============================] - 0s 3ms/step - loss: 2.7645 - mse: 2.7645 - root_mean_squared_error: 1.6627 - mean_absolute_percentage_error: 14.2424 - val_loss: 3.4978 - val_mse: 3.4978 - val_root_mean_squared_error: 1.8702 - val_mean_absolute_percentage_error: 15.5622\n",
      "Epoch 197/300\n"
     ]
    },
    {
     "name": "stdout",
     "output_type": "stream",
     "text": [
      "71/71 [==============================] - 0s 4ms/step - loss: 2.7662 - mse: 2.7662 - root_mean_squared_error: 1.6632 - mean_absolute_percentage_error: 14.3132 - val_loss: 3.4690 - val_mse: 3.4690 - val_root_mean_squared_error: 1.8625 - val_mean_absolute_percentage_error: 15.7429\n",
      "Epoch 198/300\n",
      "71/71 [==============================] - 0s 3ms/step - loss: 2.8208 - mse: 2.8208 - root_mean_squared_error: 1.6795 - mean_absolute_percentage_error: 14.3474 - val_loss: 3.4773 - val_mse: 3.4773 - val_root_mean_squared_error: 1.8648 - val_mean_absolute_percentage_error: 15.7945\n",
      "Epoch 199/300\n",
      "71/71 [==============================] - 0s 3ms/step - loss: 2.7262 - mse: 2.7262 - root_mean_squared_error: 1.6511 - mean_absolute_percentage_error: 14.1666 - val_loss: 3.4887 - val_mse: 3.4887 - val_root_mean_squared_error: 1.8678 - val_mean_absolute_percentage_error: 15.8922\n",
      "Epoch 200/300\n",
      "71/71 [==============================] - 0s 2ms/step - loss: 2.9847 - mse: 2.9847 - root_mean_squared_error: 1.7276 - mean_absolute_percentage_error: 14.8350 - val_loss: 3.7966 - val_mse: 3.7966 - val_root_mean_squared_error: 1.9485 - val_mean_absolute_percentage_error: 16.0052\n",
      "Epoch 201/300\n",
      "71/71 [==============================] - 0s 2ms/step - loss: 2.9058 - mse: 2.9058 - root_mean_squared_error: 1.7046 - mean_absolute_percentage_error: 14.5843 - val_loss: 3.6101 - val_mse: 3.6101 - val_root_mean_squared_error: 1.9000 - val_mean_absolute_percentage_error: 15.8219\n",
      "Epoch 202/300\n",
      "71/71 [==============================] - 0s 3ms/step - loss: 2.7102 - mse: 2.7102 - root_mean_squared_error: 1.6463 - mean_absolute_percentage_error: 14.2777 - val_loss: 3.5000 - val_mse: 3.5000 - val_root_mean_squared_error: 1.8708 - val_mean_absolute_percentage_error: 16.3658\n",
      "Epoch 203/300\n",
      "71/71 [==============================] - 0s 3ms/step - loss: 2.7309 - mse: 2.7309 - root_mean_squared_error: 1.6525 - mean_absolute_percentage_error: 14.2221 - val_loss: 3.6666 - val_mse: 3.6666 - val_root_mean_squared_error: 1.9148 - val_mean_absolute_percentage_error: 15.6877\n",
      "Epoch 204/300\n",
      "71/71 [==============================] - 0s 2ms/step - loss: 2.6655 - mse: 2.6655 - root_mean_squared_error: 1.6326 - mean_absolute_percentage_error: 14.2480 - val_loss: 3.5755 - val_mse: 3.5755 - val_root_mean_squared_error: 1.8909 - val_mean_absolute_percentage_error: 15.9726\n",
      "Epoch 205/300\n",
      "71/71 [==============================] - 0s 3ms/step - loss: 2.5811 - mse: 2.5811 - root_mean_squared_error: 1.6066 - mean_absolute_percentage_error: 14.3680 - val_loss: 3.6542 - val_mse: 3.6542 - val_root_mean_squared_error: 1.9116 - val_mean_absolute_percentage_error: 15.5075\n",
      "Epoch 206/300\n",
      "71/71 [==============================] - 0s 4ms/step - loss: 2.6925 - mse: 2.6925 - root_mean_squared_error: 1.6409 - mean_absolute_percentage_error: 14.3460 - val_loss: 3.5852 - val_mse: 3.5852 - val_root_mean_squared_error: 1.8935 - val_mean_absolute_percentage_error: 16.5451\n",
      "Epoch 207/300\n",
      "71/71 [==============================] - 0s 3ms/step - loss: 2.6409 - mse: 2.6409 - root_mean_squared_error: 1.6251 - mean_absolute_percentage_error: 13.9710 - val_loss: 3.6314 - val_mse: 3.6314 - val_root_mean_squared_error: 1.9056 - val_mean_absolute_percentage_error: 15.7501\n",
      "Epoch 208/300\n",
      "71/71 [==============================] - 0s 2ms/step - loss: 2.6301 - mse: 2.6301 - root_mean_squared_error: 1.6218 - mean_absolute_percentage_error: 14.0263 - val_loss: 3.5906 - val_mse: 3.5906 - val_root_mean_squared_error: 1.8949 - val_mean_absolute_percentage_error: 15.8799\n",
      "Epoch 209/300\n",
      "71/71 [==============================] - 0s 2ms/step - loss: 2.8037 - mse: 2.8037 - root_mean_squared_error: 1.6744 - mean_absolute_percentage_error: 14.5943 - val_loss: 3.5728 - val_mse: 3.5728 - val_root_mean_squared_error: 1.8902 - val_mean_absolute_percentage_error: 16.0329\n",
      "Epoch 210/300\n",
      "71/71 [==============================] - 0s 2ms/step - loss: 2.5497 - mse: 2.5497 - root_mean_squared_error: 1.5968 - mean_absolute_percentage_error: 13.7766 - val_loss: 3.6311 - val_mse: 3.6311 - val_root_mean_squared_error: 1.9055 - val_mean_absolute_percentage_error: 15.9386\n",
      "Epoch 211/300\n",
      "71/71 [==============================] - 0s 2ms/step - loss: 2.5747 - mse: 2.5747 - root_mean_squared_error: 1.6046 - mean_absolute_percentage_error: 13.5880 - val_loss: 3.6443 - val_mse: 3.6443 - val_root_mean_squared_error: 1.9090 - val_mean_absolute_percentage_error: 15.8696\n",
      "Epoch 212/300\n",
      "71/71 [==============================] - 0s 3ms/step - loss: 2.4392 - mse: 2.4392 - root_mean_squared_error: 1.5618 - mean_absolute_percentage_error: 13.9832 - val_loss: 3.5681 - val_mse: 3.5681 - val_root_mean_squared_error: 1.8890 - val_mean_absolute_percentage_error: 15.9944\n",
      "Epoch 213/300\n",
      "71/71 [==============================] - 0s 3ms/step - loss: 2.5062 - mse: 2.5062 - root_mean_squared_error: 1.5831 - mean_absolute_percentage_error: 14.2227 - val_loss: 3.5764 - val_mse: 3.5764 - val_root_mean_squared_error: 1.8911 - val_mean_absolute_percentage_error: 16.3986\n",
      "Epoch 214/300\n",
      "71/71 [==============================] - 0s 2ms/step - loss: 2.5827 - mse: 2.5827 - root_mean_squared_error: 1.6071 - mean_absolute_percentage_error: 13.7125 - val_loss: 3.4376 - val_mse: 3.4376 - val_root_mean_squared_error: 1.8541 - val_mean_absolute_percentage_error: 15.9212\n",
      "Epoch 215/300\n",
      "71/71 [==============================] - 0s 3ms/step - loss: 2.7446 - mse: 2.7446 - root_mean_squared_error: 1.6567 - mean_absolute_percentage_error: 14.3655 - val_loss: 3.5222 - val_mse: 3.5222 - val_root_mean_squared_error: 1.8768 - val_mean_absolute_percentage_error: 15.6696\n",
      "Epoch 216/300\n",
      "71/71 [==============================] - 0s 3ms/step - loss: 2.7018 - mse: 2.7018 - root_mean_squared_error: 1.6437 - mean_absolute_percentage_error: 14.0557 - val_loss: 3.4211 - val_mse: 3.4211 - val_root_mean_squared_error: 1.8496 - val_mean_absolute_percentage_error: 15.9048\n",
      "Epoch 217/300\n",
      "71/71 [==============================] - 0s 2ms/step - loss: 2.6509 - mse: 2.6509 - root_mean_squared_error: 1.6281 - mean_absolute_percentage_error: 14.0941 - val_loss: 3.5462 - val_mse: 3.5462 - val_root_mean_squared_error: 1.8831 - val_mean_absolute_percentage_error: 15.9577\n",
      "Epoch 218/300\n",
      "71/71 [==============================] - 0s 2ms/step - loss: 2.5972 - mse: 2.5972 - root_mean_squared_error: 1.6116 - mean_absolute_percentage_error: 13.9979 - val_loss: 3.5713 - val_mse: 3.5713 - val_root_mean_squared_error: 1.8898 - val_mean_absolute_percentage_error: 16.2038\n",
      "Epoch 219/300\n",
      "71/71 [==============================] - 0s 2ms/step - loss: 2.7321 - mse: 2.7321 - root_mean_squared_error: 1.6529 - mean_absolute_percentage_error: 14.0254 - val_loss: 3.5418 - val_mse: 3.5418 - val_root_mean_squared_error: 1.8820 - val_mean_absolute_percentage_error: 15.9952\n",
      "Epoch 220/300\n",
      "71/71 [==============================] - 0s 3ms/step - loss: 2.5618 - mse: 2.5618 - root_mean_squared_error: 1.6006 - mean_absolute_percentage_error: 13.9759 - val_loss: 3.5977 - val_mse: 3.5977 - val_root_mean_squared_error: 1.8968 - val_mean_absolute_percentage_error: 15.7901\n",
      "Epoch 221/300\n",
      "71/71 [==============================] - 0s 3ms/step - loss: 2.4815 - mse: 2.4815 - root_mean_squared_error: 1.5753 - mean_absolute_percentage_error: 13.6449 - val_loss: 3.7118 - val_mse: 3.7118 - val_root_mean_squared_error: 1.9266 - val_mean_absolute_percentage_error: 15.7249\n",
      "Epoch 222/300\n",
      "71/71 [==============================] - 0s 2ms/step - loss: 2.3905 - mse: 2.3905 - root_mean_squared_error: 1.5461 - mean_absolute_percentage_error: 13.5149 - val_loss: 3.7163 - val_mse: 3.7163 - val_root_mean_squared_error: 1.9278 - val_mean_absolute_percentage_error: 15.8384\n",
      "Epoch 223/300\n",
      "71/71 [==============================] - 0s 2ms/step - loss: 2.4353 - mse: 2.4353 - root_mean_squared_error: 1.5606 - mean_absolute_percentage_error: 13.5053 - val_loss: 3.6654 - val_mse: 3.6654 - val_root_mean_squared_error: 1.9145 - val_mean_absolute_percentage_error: 15.8089\n",
      "Epoch 224/300\n",
      "71/71 [==============================] - 0s 2ms/step - loss: 2.4253 - mse: 2.4253 - root_mean_squared_error: 1.5573 - mean_absolute_percentage_error: 13.6860 - val_loss: 3.6513 - val_mse: 3.6513 - val_root_mean_squared_error: 1.9109 - val_mean_absolute_percentage_error: 15.7916\n",
      "Epoch 225/300\n"
     ]
    },
    {
     "name": "stdout",
     "output_type": "stream",
     "text": [
      "71/71 [==============================] - 0s 3ms/step - loss: 2.5442 - mse: 2.5442 - root_mean_squared_error: 1.5950 - mean_absolute_percentage_error: 13.8186 - val_loss: 3.6073 - val_mse: 3.6073 - val_root_mean_squared_error: 1.8993 - val_mean_absolute_percentage_error: 15.8525\n",
      "Epoch 226/300\n",
      "71/71 [==============================] - 0s 3ms/step - loss: 2.6901 - mse: 2.6901 - root_mean_squared_error: 1.6402 - mean_absolute_percentage_error: 13.7901 - val_loss: 3.5937 - val_mse: 3.5937 - val_root_mean_squared_error: 1.8957 - val_mean_absolute_percentage_error: 15.7563\n",
      "Epoch 227/300\n",
      "71/71 [==============================] - 0s 2ms/step - loss: 2.6223 - mse: 2.6223 - root_mean_squared_error: 1.6193 - mean_absolute_percentage_error: 14.2305 - val_loss: 3.7481 - val_mse: 3.7481 - val_root_mean_squared_error: 1.9360 - val_mean_absolute_percentage_error: 16.1704\n",
      "Epoch 228/300\n",
      "71/71 [==============================] - 0s 2ms/step - loss: 2.3723 - mse: 2.3723 - root_mean_squared_error: 1.5402 - mean_absolute_percentage_error: 13.3099 - val_loss: 3.6198 - val_mse: 3.6198 - val_root_mean_squared_error: 1.9026 - val_mean_absolute_percentage_error: 15.6436\n",
      "Epoch 229/300\n",
      "71/71 [==============================] - 0s 3ms/step - loss: 2.5027 - mse: 2.5027 - root_mean_squared_error: 1.5820 - mean_absolute_percentage_error: 13.5538 - val_loss: 3.5920 - val_mse: 3.5920 - val_root_mean_squared_error: 1.8953 - val_mean_absolute_percentage_error: 15.7152\n",
      "Epoch 230/300\n",
      "71/71 [==============================] - 0s 3ms/step - loss: 2.5448 - mse: 2.5448 - root_mean_squared_error: 1.5952 - mean_absolute_percentage_error: 13.8550 - val_loss: 3.5629 - val_mse: 3.5629 - val_root_mean_squared_error: 1.8876 - val_mean_absolute_percentage_error: 15.7761\n",
      "Epoch 231/300\n",
      "71/71 [==============================] - 0s 2ms/step - loss: 2.5499 - mse: 2.5499 - root_mean_squared_error: 1.5968 - mean_absolute_percentage_error: 13.7641 - val_loss: 3.4632 - val_mse: 3.4632 - val_root_mean_squared_error: 1.8610 - val_mean_absolute_percentage_error: 15.8636\n",
      "Epoch 232/300\n",
      "71/71 [==============================] - 0s 3ms/step - loss: 2.2869 - mse: 2.2869 - root_mean_squared_error: 1.5122 - mean_absolute_percentage_error: 13.1551 - val_loss: 3.6591 - val_mse: 3.6591 - val_root_mean_squared_error: 1.9129 - val_mean_absolute_percentage_error: 15.6309\n",
      "Epoch 233/300\n",
      "71/71 [==============================] - 0s 2ms/step - loss: 2.4267 - mse: 2.4267 - root_mean_squared_error: 1.5578 - mean_absolute_percentage_error: 13.3384 - val_loss: 3.5961 - val_mse: 3.5961 - val_root_mean_squared_error: 1.8963 - val_mean_absolute_percentage_error: 15.4569\n",
      "Epoch 234/300\n",
      "71/71 [==============================] - 0s 3ms/step - loss: 2.4603 - mse: 2.4603 - root_mean_squared_error: 1.5685 - mean_absolute_percentage_error: 13.5824 - val_loss: 3.5513 - val_mse: 3.5513 - val_root_mean_squared_error: 1.8845 - val_mean_absolute_percentage_error: 15.9351\n",
      "Epoch 235/300\n",
      "71/71 [==============================] - 0s 3ms/step - loss: 2.3054 - mse: 2.3054 - root_mean_squared_error: 1.5183 - mean_absolute_percentage_error: 13.3426 - val_loss: 3.5802 - val_mse: 3.5802 - val_root_mean_squared_error: 1.8921 - val_mean_absolute_percentage_error: 16.0716\n",
      "Epoch 236/300\n",
      "71/71 [==============================] - 0s 2ms/step - loss: 2.4063 - mse: 2.4063 - root_mean_squared_error: 1.5512 - mean_absolute_percentage_error: 13.6890 - val_loss: 3.5264 - val_mse: 3.5264 - val_root_mean_squared_error: 1.8779 - val_mean_absolute_percentage_error: 15.9742\n",
      "Epoch 237/300\n",
      "71/71 [==============================] - 0s 2ms/step - loss: 2.3143 - mse: 2.3143 - root_mean_squared_error: 1.5213 - mean_absolute_percentage_error: 12.9980 - val_loss: 3.5576 - val_mse: 3.5576 - val_root_mean_squared_error: 1.8861 - val_mean_absolute_percentage_error: 15.5673\n",
      "Epoch 238/300\n",
      "71/71 [==============================] - 0s 2ms/step - loss: 2.3051 - mse: 2.3051 - root_mean_squared_error: 1.5183 - mean_absolute_percentage_error: 13.5304 - val_loss: 3.5298 - val_mse: 3.5298 - val_root_mean_squared_error: 1.8788 - val_mean_absolute_percentage_error: 15.9804\n",
      "Epoch 239/300\n",
      "71/71 [==============================] - 0s 2ms/step - loss: 2.3313 - mse: 2.3313 - root_mean_squared_error: 1.5269 - mean_absolute_percentage_error: 13.4629 - val_loss: 3.4662 - val_mse: 3.4662 - val_root_mean_squared_error: 1.8618 - val_mean_absolute_percentage_error: 15.5892\n",
      "Epoch 240/300\n",
      "71/71 [==============================] - 0s 2ms/step - loss: 2.2977 - mse: 2.2977 - root_mean_squared_error: 1.5158 - mean_absolute_percentage_error: 13.2100 - val_loss: 3.4956 - val_mse: 3.4956 - val_root_mean_squared_error: 1.8697 - val_mean_absolute_percentage_error: 15.4741\n",
      "Epoch 241/300\n",
      "71/71 [==============================] - 0s 2ms/step - loss: 2.2706 - mse: 2.2706 - root_mean_squared_error: 1.5068 - mean_absolute_percentage_error: 13.3252 - val_loss: 3.5865 - val_mse: 3.5865 - val_root_mean_squared_error: 1.8938 - val_mean_absolute_percentage_error: 15.6284\n",
      "Epoch 242/300\n",
      "71/71 [==============================] - 0s 2ms/step - loss: 2.2175 - mse: 2.2175 - root_mean_squared_error: 1.4891 - mean_absolute_percentage_error: 13.1304 - val_loss: 3.6550 - val_mse: 3.6550 - val_root_mean_squared_error: 1.9118 - val_mean_absolute_percentage_error: 15.8753\n",
      "Epoch 243/300\n",
      "71/71 [==============================] - 0s 2ms/step - loss: 2.2461 - mse: 2.2461 - root_mean_squared_error: 1.4987 - mean_absolute_percentage_error: 13.3866 - val_loss: 3.5880 - val_mse: 3.5880 - val_root_mean_squared_error: 1.8942 - val_mean_absolute_percentage_error: 15.6085\n",
      "Epoch 244/300\n",
      "71/71 [==============================] - 0s 2ms/step - loss: 2.2383 - mse: 2.2383 - root_mean_squared_error: 1.4961 - mean_absolute_percentage_error: 13.1462 - val_loss: 3.5787 - val_mse: 3.5787 - val_root_mean_squared_error: 1.8918 - val_mean_absolute_percentage_error: 16.0708\n",
      "Epoch 245/300\n",
      "71/71 [==============================] - 0s 2ms/step - loss: 2.3427 - mse: 2.3427 - root_mean_squared_error: 1.5306 - mean_absolute_percentage_error: 13.6541 - val_loss: 3.5435 - val_mse: 3.5435 - val_root_mean_squared_error: 1.8824 - val_mean_absolute_percentage_error: 15.8367\n",
      "Epoch 246/300\n",
      "71/71 [==============================] - 0s 2ms/step - loss: 2.2292 - mse: 2.2292 - root_mean_squared_error: 1.4930 - mean_absolute_percentage_error: 13.1824 - val_loss: 3.5453 - val_mse: 3.5453 - val_root_mean_squared_error: 1.8829 - val_mean_absolute_percentage_error: 15.9130\n",
      "Epoch 247/300\n",
      "71/71 [==============================] - 0s 2ms/step - loss: 2.5012 - mse: 2.5012 - root_mean_squared_error: 1.5815 - mean_absolute_percentage_error: 13.7494 - val_loss: 3.5624 - val_mse: 3.5624 - val_root_mean_squared_error: 1.8874 - val_mean_absolute_percentage_error: 16.2307\n",
      "Epoch 248/300\n",
      "71/71 [==============================] - 0s 2ms/step - loss: 2.3257 - mse: 2.3257 - root_mean_squared_error: 1.5250 - mean_absolute_percentage_error: 13.4260 - val_loss: 3.5000 - val_mse: 3.5000 - val_root_mean_squared_error: 1.8708 - val_mean_absolute_percentage_error: 16.2565\n",
      "Epoch 249/300\n",
      "71/71 [==============================] - 0s 2ms/step - loss: 2.2031 - mse: 2.2031 - root_mean_squared_error: 1.4843 - mean_absolute_percentage_error: 13.1445 - val_loss: 3.5454 - val_mse: 3.5454 - val_root_mean_squared_error: 1.8829 - val_mean_absolute_percentage_error: 15.9900\n",
      "Epoch 250/300\n",
      "71/71 [==============================] - 0s 2ms/step - loss: 2.2784 - mse: 2.2784 - root_mean_squared_error: 1.5094 - mean_absolute_percentage_error: 13.1810 - val_loss: 3.6133 - val_mse: 3.6133 - val_root_mean_squared_error: 1.9009 - val_mean_absolute_percentage_error: 15.7980\n",
      "Epoch 251/300\n",
      "71/71 [==============================] - 0s 3ms/step - loss: 2.2131 - mse: 2.2131 - root_mean_squared_error: 1.4876 - mean_absolute_percentage_error: 13.7081 - val_loss: 3.6030 - val_mse: 3.6030 - val_root_mean_squared_error: 1.8982 - val_mean_absolute_percentage_error: 15.6124\n",
      "Epoch 252/300\n",
      "71/71 [==============================] - 0s 3ms/step - loss: 2.1783 - mse: 2.1783 - root_mean_squared_error: 1.4759 - mean_absolute_percentage_error: 12.7853 - val_loss: 3.6494 - val_mse: 3.6494 - val_root_mean_squared_error: 1.9103 - val_mean_absolute_percentage_error: 16.1080\n",
      "Epoch 253/300\n"
     ]
    },
    {
     "name": "stdout",
     "output_type": "stream",
     "text": [
      "71/71 [==============================] - 0s 2ms/step - loss: 2.2451 - mse: 2.2451 - root_mean_squared_error: 1.4984 - mean_absolute_percentage_error: 13.3887 - val_loss: 3.5407 - val_mse: 3.5407 - val_root_mean_squared_error: 1.8817 - val_mean_absolute_percentage_error: 15.8294\n",
      "Epoch 254/300\n",
      "71/71 [==============================] - 0s 2ms/step - loss: 2.1015 - mse: 2.1015 - root_mean_squared_error: 1.4496 - mean_absolute_percentage_error: 13.1638 - val_loss: 3.6056 - val_mse: 3.6056 - val_root_mean_squared_error: 1.8988 - val_mean_absolute_percentage_error: 16.2620\n",
      "Epoch 255/300\n",
      "71/71 [==============================] - 0s 2ms/step - loss: 2.2670 - mse: 2.2670 - root_mean_squared_error: 1.5056 - mean_absolute_percentage_error: 13.3905 - val_loss: 3.5905 - val_mse: 3.5905 - val_root_mean_squared_error: 1.8949 - val_mean_absolute_percentage_error: 15.8072\n",
      "Epoch 256/300\n",
      "71/71 [==============================] - 0s 2ms/step - loss: 2.3587 - mse: 2.3587 - root_mean_squared_error: 1.5358 - mean_absolute_percentage_error: 13.9145 - val_loss: 3.4785 - val_mse: 3.4785 - val_root_mean_squared_error: 1.8651 - val_mean_absolute_percentage_error: 16.1933\n",
      "Epoch 257/300\n",
      "71/71 [==============================] - 0s 2ms/step - loss: 2.2596 - mse: 2.2596 - root_mean_squared_error: 1.5032 - mean_absolute_percentage_error: 13.2213 - val_loss: 3.4834 - val_mse: 3.4834 - val_root_mean_squared_error: 1.8664 - val_mean_absolute_percentage_error: 16.3892\n",
      "Epoch 258/300\n",
      "71/71 [==============================] - 0s 3ms/step - loss: 2.3942 - mse: 2.3942 - root_mean_squared_error: 1.5473 - mean_absolute_percentage_error: 13.6822 - val_loss: 3.7343 - val_mse: 3.7343 - val_root_mean_squared_error: 1.9324 - val_mean_absolute_percentage_error: 15.9274\n",
      "Epoch 259/300\n",
      "71/71 [==============================] - 0s 3ms/step - loss: 2.3362 - mse: 2.3362 - root_mean_squared_error: 1.5285 - mean_absolute_percentage_error: 13.5486 - val_loss: 3.5174 - val_mse: 3.5174 - val_root_mean_squared_error: 1.8755 - val_mean_absolute_percentage_error: 16.1630\n",
      "Epoch 260/300\n",
      "71/71 [==============================] - 0s 3ms/step - loss: 2.2519 - mse: 2.2519 - root_mean_squared_error: 1.5006 - mean_absolute_percentage_error: 13.1757 - val_loss: 3.5586 - val_mse: 3.5586 - val_root_mean_squared_error: 1.8864 - val_mean_absolute_percentage_error: 16.0429\n",
      "Epoch 261/300\n",
      "71/71 [==============================] - 0s 3ms/step - loss: 2.2148 - mse: 2.2148 - root_mean_squared_error: 1.4882 - mean_absolute_percentage_error: 13.1790 - val_loss: 3.5402 - val_mse: 3.5402 - val_root_mean_squared_error: 1.8815 - val_mean_absolute_percentage_error: 16.4206\n",
      "Epoch 262/300\n",
      "71/71 [==============================] - 0s 3ms/step - loss: 2.1990 - mse: 2.1990 - root_mean_squared_error: 1.4829 - mean_absolute_percentage_error: 13.4525 - val_loss: 3.4944 - val_mse: 3.4944 - val_root_mean_squared_error: 1.8693 - val_mean_absolute_percentage_error: 16.1279\n",
      "Epoch 263/300\n",
      "71/71 [==============================] - 0s 3ms/step - loss: 2.3464 - mse: 2.3464 - root_mean_squared_error: 1.5318 - mean_absolute_percentage_error: 13.5170 - val_loss: 3.7198 - val_mse: 3.7198 - val_root_mean_squared_error: 1.9287 - val_mean_absolute_percentage_error: 15.7732\n",
      "Epoch 264/300\n",
      "71/71 [==============================] - 0s 3ms/step - loss: 2.2125 - mse: 2.2125 - root_mean_squared_error: 1.4874 - mean_absolute_percentage_error: 13.1085 - val_loss: 3.5753 - val_mse: 3.5753 - val_root_mean_squared_error: 1.8909 - val_mean_absolute_percentage_error: 16.0625\n",
      "Epoch 265/300\n",
      "71/71 [==============================] - 0s 3ms/step - loss: 2.1053 - mse: 2.1053 - root_mean_squared_error: 1.4510 - mean_absolute_percentage_error: 13.0140 - val_loss: 3.5951 - val_mse: 3.5951 - val_root_mean_squared_error: 1.8961 - val_mean_absolute_percentage_error: 16.1058\n",
      "Epoch 266/300\n",
      "71/71 [==============================] - 0s 2ms/step - loss: 2.1474 - mse: 2.1474 - root_mean_squared_error: 1.4654 - mean_absolute_percentage_error: 13.2537 - val_loss: 3.5579 - val_mse: 3.5579 - val_root_mean_squared_error: 1.8862 - val_mean_absolute_percentage_error: 16.3168\n",
      "Epoch 267/300\n",
      "71/71 [==============================] - 0s 2ms/step - loss: 2.2080 - mse: 2.2080 - root_mean_squared_error: 1.4859 - mean_absolute_percentage_error: 13.4517 - val_loss: 3.4931 - val_mse: 3.4931 - val_root_mean_squared_error: 1.8690 - val_mean_absolute_percentage_error: 15.9479\n",
      "Epoch 268/300\n",
      "71/71 [==============================] - 0s 3ms/step - loss: 2.2683 - mse: 2.2683 - root_mean_squared_error: 1.5061 - mean_absolute_percentage_error: 13.5407 - val_loss: 3.6356 - val_mse: 3.6356 - val_root_mean_squared_error: 1.9067 - val_mean_absolute_percentage_error: 16.2695\n",
      "Epoch 269/300\n",
      "71/71 [==============================] - 0s 3ms/step - loss: 2.1764 - mse: 2.1764 - root_mean_squared_error: 1.4753 - mean_absolute_percentage_error: 13.3471 - val_loss: 3.6449 - val_mse: 3.6449 - val_root_mean_squared_error: 1.9092 - val_mean_absolute_percentage_error: 16.1188\n",
      "Epoch 270/300\n",
      "71/71 [==============================] - 0s 2ms/step - loss: 2.1653 - mse: 2.1653 - root_mean_squared_error: 1.4715 - mean_absolute_percentage_error: 12.9021 - val_loss: 3.6166 - val_mse: 3.6166 - val_root_mean_squared_error: 1.9017 - val_mean_absolute_percentage_error: 16.0558\n",
      "Epoch 271/300\n",
      "71/71 [==============================] - 0s 3ms/step - loss: 2.1853 - mse: 2.1853 - root_mean_squared_error: 1.4783 - mean_absolute_percentage_error: 13.2093 - val_loss: 3.5656 - val_mse: 3.5656 - val_root_mean_squared_error: 1.8883 - val_mean_absolute_percentage_error: 16.5247\n",
      "Epoch 272/300\n",
      "71/71 [==============================] - 0s 3ms/step - loss: 2.2727 - mse: 2.2727 - root_mean_squared_error: 1.5076 - mean_absolute_percentage_error: 13.3902 - val_loss: 3.6342 - val_mse: 3.6342 - val_root_mean_squared_error: 1.9064 - val_mean_absolute_percentage_error: 16.0536\n",
      "Epoch 273/300\n",
      "71/71 [==============================] - 0s 3ms/step - loss: 2.2543 - mse: 2.2543 - root_mean_squared_error: 1.5014 - mean_absolute_percentage_error: 13.2369 - val_loss: 3.5315 - val_mse: 3.5315 - val_root_mean_squared_error: 1.8792 - val_mean_absolute_percentage_error: 16.0462\n",
      "Epoch 274/300\n",
      "71/71 [==============================] - 0s 3ms/step - loss: 2.1755 - mse: 2.1755 - root_mean_squared_error: 1.4750 - mean_absolute_percentage_error: 13.0822 - val_loss: 3.5882 - val_mse: 3.5882 - val_root_mean_squared_error: 1.8943 - val_mean_absolute_percentage_error: 16.0753\n",
      "Epoch 275/300\n",
      "71/71 [==============================] - 0s 4ms/step - loss: 1.9899 - mse: 1.9899 - root_mean_squared_error: 1.4107 - mean_absolute_percentage_error: 12.6300 - val_loss: 3.5410 - val_mse: 3.5410 - val_root_mean_squared_error: 1.8818 - val_mean_absolute_percentage_error: 15.9571\n",
      "Epoch 276/300\n",
      "71/71 [==============================] - 0s 3ms/step - loss: 2.1969 - mse: 2.1969 - root_mean_squared_error: 1.4822 - mean_absolute_percentage_error: 13.1750 - val_loss: 3.6253 - val_mse: 3.6253 - val_root_mean_squared_error: 1.9040 - val_mean_absolute_percentage_error: 16.1959\n",
      "Epoch 277/300\n",
      "71/71 [==============================] - 0s 2ms/step - loss: 2.1532 - mse: 2.1532 - root_mean_squared_error: 1.4674 - mean_absolute_percentage_error: 13.2238 - val_loss: 3.5402 - val_mse: 3.5402 - val_root_mean_squared_error: 1.8815 - val_mean_absolute_percentage_error: 15.7878\n",
      "Epoch 278/300\n",
      "71/71 [==============================] - 0s 2ms/step - loss: 2.0872 - mse: 2.0872 - root_mean_squared_error: 1.4447 - mean_absolute_percentage_error: 13.0566 - val_loss: 3.5989 - val_mse: 3.5989 - val_root_mean_squared_error: 1.8971 - val_mean_absolute_percentage_error: 15.9509\n",
      "Epoch 279/300\n",
      "71/71 [==============================] - 0s 2ms/step - loss: 2.1145 - mse: 2.1145 - root_mean_squared_error: 1.4541 - mean_absolute_percentage_error: 13.1578 - val_loss: 3.5751 - val_mse: 3.5751 - val_root_mean_squared_error: 1.8908 - val_mean_absolute_percentage_error: 16.2016\n",
      "Epoch 280/300\n",
      "71/71 [==============================] - 0s 3ms/step - loss: 2.2002 - mse: 2.2002 - root_mean_squared_error: 1.4833 - mean_absolute_percentage_error: 13.4867 - val_loss: 3.5732 - val_mse: 3.5732 - val_root_mean_squared_error: 1.8903 - val_mean_absolute_percentage_error: 15.8891\n",
      "Epoch 281/300\n"
     ]
    },
    {
     "name": "stdout",
     "output_type": "stream",
     "text": [
      "71/71 [==============================] - 0s 2ms/step - loss: 2.0586 - mse: 2.0586 - root_mean_squared_error: 1.4348 - mean_absolute_percentage_error: 12.9913 - val_loss: 3.5746 - val_mse: 3.5746 - val_root_mean_squared_error: 1.8907 - val_mean_absolute_percentage_error: 16.0351\n",
      "Epoch 282/300\n",
      "71/71 [==============================] - 0s 2ms/step - loss: 2.1255 - mse: 2.1255 - root_mean_squared_error: 1.4579 - mean_absolute_percentage_error: 13.2284 - val_loss: 3.6295 - val_mse: 3.6295 - val_root_mean_squared_error: 1.9051 - val_mean_absolute_percentage_error: 15.9644\n",
      "Epoch 283/300\n",
      "71/71 [==============================] - 0s 2ms/step - loss: 2.1071 - mse: 2.1071 - root_mean_squared_error: 1.4516 - mean_absolute_percentage_error: 12.8998 - val_loss: 3.6374 - val_mse: 3.6374 - val_root_mean_squared_error: 1.9072 - val_mean_absolute_percentage_error: 16.3027\n",
      "Epoch 284/300\n",
      "71/71 [==============================] - 0s 2ms/step - loss: 2.2751 - mse: 2.2751 - root_mean_squared_error: 1.5084 - mean_absolute_percentage_error: 13.3857 - val_loss: 3.6269 - val_mse: 3.6269 - val_root_mean_squared_error: 1.9044 - val_mean_absolute_percentage_error: 15.8736\n",
      "Epoch 285/300\n",
      "71/71 [==============================] - 0s 2ms/step - loss: 2.2490 - mse: 2.2490 - root_mean_squared_error: 1.4997 - mean_absolute_percentage_error: 13.2261 - val_loss: 3.6388 - val_mse: 3.6388 - val_root_mean_squared_error: 1.9076 - val_mean_absolute_percentage_error: 15.8781\n",
      "Epoch 286/300\n",
      "71/71 [==============================] - 0s 2ms/step - loss: 1.9286 - mse: 1.9286 - root_mean_squared_error: 1.3887 - mean_absolute_percentage_error: 12.7102 - val_loss: 3.5157 - val_mse: 3.5157 - val_root_mean_squared_error: 1.8750 - val_mean_absolute_percentage_error: 15.9200\n",
      "Epoch 287/300\n",
      "71/71 [==============================] - 0s 2ms/step - loss: 2.0583 - mse: 2.0583 - root_mean_squared_error: 1.4347 - mean_absolute_percentage_error: 13.2116 - val_loss: 3.6855 - val_mse: 3.6855 - val_root_mean_squared_error: 1.9198 - val_mean_absolute_percentage_error: 15.6283\n",
      "Epoch 288/300\n",
      "71/71 [==============================] - 0s 2ms/step - loss: 2.0847 - mse: 2.0847 - root_mean_squared_error: 1.4439 - mean_absolute_percentage_error: 13.2287 - val_loss: 3.5123 - val_mse: 3.5123 - val_root_mean_squared_error: 1.8741 - val_mean_absolute_percentage_error: 15.9516\n",
      "Epoch 289/300\n",
      "71/71 [==============================] - 0s 2ms/step - loss: 2.0515 - mse: 2.0515 - root_mean_squared_error: 1.4323 - mean_absolute_percentage_error: 12.6629 - val_loss: 3.5255 - val_mse: 3.5255 - val_root_mean_squared_error: 1.8776 - val_mean_absolute_percentage_error: 16.2291\n",
      "Epoch 290/300\n",
      "71/71 [==============================] - 0s 2ms/step - loss: 2.0961 - mse: 2.0961 - root_mean_squared_error: 1.4478 - mean_absolute_percentage_error: 13.4616 - val_loss: 3.5726 - val_mse: 3.5726 - val_root_mean_squared_error: 1.8901 - val_mean_absolute_percentage_error: 15.9486\n",
      "Epoch 291/300\n",
      "71/71 [==============================] - 0s 2ms/step - loss: 2.0679 - mse: 2.0679 - root_mean_squared_error: 1.4380 - mean_absolute_percentage_error: 12.9858 - val_loss: 3.5329 - val_mse: 3.5329 - val_root_mean_squared_error: 1.8796 - val_mean_absolute_percentage_error: 15.6385\n",
      "Epoch 292/300\n",
      "71/71 [==============================] - 0s 2ms/step - loss: 2.2099 - mse: 2.2099 - root_mean_squared_error: 1.4866 - mean_absolute_percentage_error: 13.4896 - val_loss: 3.4264 - val_mse: 3.4264 - val_root_mean_squared_error: 1.8511 - val_mean_absolute_percentage_error: 15.9640\n",
      "Epoch 293/300\n",
      "71/71 [==============================] - 0s 2ms/step - loss: 1.9494 - mse: 1.9494 - root_mean_squared_error: 1.3962 - mean_absolute_percentage_error: 12.2849 - val_loss: 3.4456 - val_mse: 3.4456 - val_root_mean_squared_error: 1.8562 - val_mean_absolute_percentage_error: 15.7294\n",
      "Epoch 294/300\n",
      "71/71 [==============================] - 0s 2ms/step - loss: 2.1832 - mse: 2.1832 - root_mean_squared_error: 1.4776 - mean_absolute_percentage_error: 13.2271 - val_loss: 3.3910 - val_mse: 3.3910 - val_root_mean_squared_error: 1.8415 - val_mean_absolute_percentage_error: 15.5728\n",
      "Epoch 295/300\n",
      "71/71 [==============================] - 0s 2ms/step - loss: 1.9818 - mse: 1.9818 - root_mean_squared_error: 1.4078 - mean_absolute_percentage_error: 12.8193 - val_loss: 3.5771 - val_mse: 3.5771 - val_root_mean_squared_error: 1.8913 - val_mean_absolute_percentage_error: 15.6491\n",
      "Epoch 296/300\n",
      "71/71 [==============================] - 0s 3ms/step - loss: 2.0810 - mse: 2.0810 - root_mean_squared_error: 1.4426 - mean_absolute_percentage_error: 13.2362 - val_loss: 3.5232 - val_mse: 3.5232 - val_root_mean_squared_error: 1.8770 - val_mean_absolute_percentage_error: 15.9599\n",
      "Epoch 297/300\n",
      "71/71 [==============================] - 0s 2ms/step - loss: 1.9925 - mse: 1.9925 - root_mean_squared_error: 1.4116 - mean_absolute_percentage_error: 12.6781 - val_loss: 3.5843 - val_mse: 3.5843 - val_root_mean_squared_error: 1.8932 - val_mean_absolute_percentage_error: 15.4716\n",
      "Epoch 298/300\n",
      "71/71 [==============================] - 0s 2ms/step - loss: 2.0346 - mse: 2.0346 - root_mean_squared_error: 1.4264 - mean_absolute_percentage_error: 12.8503 - val_loss: 3.4980 - val_mse: 3.4980 - val_root_mean_squared_error: 1.8703 - val_mean_absolute_percentage_error: 16.0189\n",
      "Epoch 299/300\n",
      "71/71 [==============================] - 0s 3ms/step - loss: 1.9791 - mse: 1.9791 - root_mean_squared_error: 1.4068 - mean_absolute_percentage_error: 12.7634 - val_loss: 3.5187 - val_mse: 3.5187 - val_root_mean_squared_error: 1.8758 - val_mean_absolute_percentage_error: 16.0294\n",
      "Epoch 300/300\n",
      "71/71 [==============================] - 0s 2ms/step - loss: 2.2091 - mse: 2.2091 - root_mean_squared_error: 1.4863 - mean_absolute_percentage_error: 13.3419 - val_loss: 3.6016 - val_mse: 3.6016 - val_root_mean_squared_error: 1.8978 - val_mean_absolute_percentage_error: 16.2451\n"
     ]
    }
   ],
   "source": [
    "history_1 = model_1.fit(Z_train, y_train,\n",
    "          epochs= 300,\n",
    "          validation_data= (Z_test, y_test),\n",
    "          verbose= 1\n",
    "         )"
   ]
  },
  {
   "cell_type": "code",
   "execution_count": 40,
   "id": "d3030751",
   "metadata": {},
   "outputs": [
    {
     "data": {
      "text/plain": [
       "0.9105588565134765"
      ]
     },
     "execution_count": 40,
     "metadata": {},
     "output_type": "execute_result"
    }
   ],
   "source": [
    "r2_score(y_train, model_1.predict(Z_train))"
   ]
  },
  {
   "cell_type": "code",
   "execution_count": 41,
   "id": "2c2e2172",
   "metadata": {},
   "outputs": [
    {
     "data": {
      "text/plain": [
       "0.6344849972715241"
      ]
     },
     "execution_count": 41,
     "metadata": {},
     "output_type": "execute_result"
    }
   ],
   "source": [
    "r2_score(y_test, model_1.predict(Z_test))"
   ]
  },
  {
   "cell_type": "code",
   "execution_count": 42,
   "id": "bfb12871",
   "metadata": {},
   "outputs": [],
   "source": [
    "nn_train = model_1.predict(Z_train)\n",
    "nn_test = model_1.predict(Z_test)\n",
    "nn_train = [g[0] for g in nn_train]\n",
    "nn_test = [h[0] for h in nn_test]"
   ]
  },
  {
   "cell_type": "code",
   "execution_count": 57,
   "id": "1345905d",
   "metadata": {},
   "outputs": [
    {
     "data": {
      "image/png": "[encoded data removed]",
      "text/plain": [
       "<Figure size 792x792 with 1 Axes>"
      ]
     },
     "metadata": {
      "needs_background": "light"
     },
     "output_type": "display_data"
    }
   ],
   "source": [
    "plt.figure(figsize=(11,11))\n",
    "plt.scatter(model_1.predict(Z_train), y_train)\n",
    "plt.title('NN - Train: 0.91, Test: 0.634')\n",
    "plt.savefig('../graphs/NN_pred_scatter.jpg')"
   ]
  },
  {
   "cell_type": "markdown",
   "id": "35e78b21",
   "metadata": {},
   "source": [
    "### Second level model based on linear regression and neural network preds"
   ]
  },
  {
   "cell_type": "code",
   "execution_count": 44,
   "id": "6ff5a001",
   "metadata": {},
   "outputs": [],
   "source": [
    "a =pd.DataFrame([lin_train, nn_train, y_train], index=['lin_reg', 'nn', 'y']).T\n",
    "b = pd.DataFrame([lin_test, nn_test, y_test], index=['lin_reg', 'nn', 'y']).T"
   ]
  },
  {
   "cell_type": "code",
   "execution_count": 45,
   "id": "0f3cee69",
   "metadata": {
    "scrolled": false
   },
   "outputs": [
    {
     "data": {
      "text/html": [
       "<div>\n",
       "<style scoped>\n",
       "    .dataframe tbody tr th:only-of-type {\n",
       "        vertical-align: middle;\n",
       "    }\n",
       "\n",
       "    .dataframe tbody tr th {\n",
       "        vertical-align: top;\n",
       "    }\n",
       "\n",
       "    .dataframe thead th {\n",
       "        text-align: right;\n",
       "    }\n",
       "</style>\n",
       "<table border=\"1\" class=\"dataframe\">\n",
       "  <thead>\n",
       "    <tr style=\"text-align: right;\">\n",
       "      <th></th>\n",
       "      <th>lin_reg</th>\n",
       "      <th>nn</th>\n",
       "      <th>y</th>\n",
       "    </tr>\n",
       "  </thead>\n",
       "  <tbody>\n",
       "    <tr>\n",
       "      <th>0</th>\n",
       "      <td>10.922396</td>\n",
       "      <td>10.932160</td>\n",
       "      <td>11.7</td>\n",
       "    </tr>\n",
       "    <tr>\n",
       "      <th>1</th>\n",
       "      <td>7.817903</td>\n",
       "      <td>7.955190</td>\n",
       "      <td>9.9</td>\n",
       "    </tr>\n",
       "    <tr>\n",
       "      <th>2</th>\n",
       "      <td>12.166780</td>\n",
       "      <td>9.110406</td>\n",
       "      <td>8.0</td>\n",
       "    </tr>\n",
       "    <tr>\n",
       "      <th>3</th>\n",
       "      <td>12.499178</td>\n",
       "      <td>10.799421</td>\n",
       "      <td>11.6</td>\n",
       "    </tr>\n",
       "    <tr>\n",
       "      <th>4</th>\n",
       "      <td>9.030794</td>\n",
       "      <td>6.749950</td>\n",
       "      <td>7.4</td>\n",
       "    </tr>\n",
       "  </tbody>\n",
       "</table>\n",
       "</div>"
      ],
      "text/plain": [
       "     lin_reg         nn     y\n",
       "0  10.922396  10.932160  11.7\n",
       "1   7.817903   7.955190   9.9\n",
       "2  12.166780   9.110406   8.0\n",
       "3  12.499178  10.799421  11.6\n",
       "4   9.030794   6.749950   7.4"
      ]
     },
     "execution_count": 45,
     "metadata": {},
     "output_type": "execute_result"
    }
   ],
   "source": [
    "a.head()"
   ]
  },
  {
   "cell_type": "code",
   "execution_count": 46,
   "id": "37b8f5bb",
   "metadata": {},
   "outputs": [
    {
     "data": {
      "text/html": [
       "<div>\n",
       "<style scoped>\n",
       "    .dataframe tbody tr th:only-of-type {\n",
       "        vertical-align: middle;\n",
       "    }\n",
       "\n",
       "    .dataframe tbody tr th {\n",
       "        vertical-align: top;\n",
       "    }\n",
       "\n",
       "    .dataframe thead th {\n",
       "        text-align: right;\n",
       "    }\n",
       "</style>\n",
       "<table border=\"1\" class=\"dataframe\">\n",
       "  <thead>\n",
       "    <tr style=\"text-align: right;\">\n",
       "      <th></th>\n",
       "      <th>lin_reg</th>\n",
       "      <th>nn</th>\n",
       "      <th>y</th>\n",
       "    </tr>\n",
       "  </thead>\n",
       "  <tbody>\n",
       "    <tr>\n",
       "      <th>0</th>\n",
       "      <td>12.136029</td>\n",
       "      <td>11.611511</td>\n",
       "      <td>12.5</td>\n",
       "    </tr>\n",
       "    <tr>\n",
       "      <th>1</th>\n",
       "      <td>10.070358</td>\n",
       "      <td>8.201416</td>\n",
       "      <td>5.9</td>\n",
       "    </tr>\n",
       "    <tr>\n",
       "      <th>2</th>\n",
       "      <td>11.389406</td>\n",
       "      <td>10.266273</td>\n",
       "      <td>10.7</td>\n",
       "    </tr>\n",
       "    <tr>\n",
       "      <th>3</th>\n",
       "      <td>7.893248</td>\n",
       "      <td>7.195796</td>\n",
       "      <td>6.3</td>\n",
       "    </tr>\n",
       "    <tr>\n",
       "      <th>4</th>\n",
       "      <td>12.921743</td>\n",
       "      <td>11.365313</td>\n",
       "      <td>12.4</td>\n",
       "    </tr>\n",
       "  </tbody>\n",
       "</table>\n",
       "</div>"
      ],
      "text/plain": [
       "     lin_reg         nn     y\n",
       "0  12.136029  11.611511  12.5\n",
       "1  10.070358   8.201416   5.9\n",
       "2  11.389406  10.266273  10.7\n",
       "3   7.893248   7.195796   6.3\n",
       "4  12.921743  11.365313  12.4"
      ]
     },
     "execution_count": 46,
     "metadata": {},
     "output_type": "execute_result"
    }
   ],
   "source": [
    "b.head()"
   ]
  },
  {
   "cell_type": "code",
   "execution_count": 47,
   "id": "9bfd46ed",
   "metadata": {},
   "outputs": [],
   "source": [
    "Xa = a.drop(columns='y')\n",
    "ya = a['y']\n",
    "Xa_train, Xa_test, ya_train, ya_test = train_test_split(Xa, ya, random_state=42)"
   ]
  },
  {
   "cell_type": "code",
   "execution_count": 48,
   "id": "c9a4caa8",
   "metadata": {},
   "outputs": [],
   "source": [
    "lev2 = LinearRegression()"
   ]
  },
  {
   "cell_type": "code",
   "execution_count": 49,
   "id": "45f1705c",
   "metadata": {},
   "outputs": [
    {
     "data": {
      "text/plain": [
       "LinearRegression()"
      ]
     },
     "execution_count": 49,
     "metadata": {},
     "output_type": "execute_result"
    }
   ],
   "source": [
    "lev2.fit(Xa_train, ya_train)"
   ]
  },
  {
   "cell_type": "code",
   "execution_count": 50,
   "id": "f13b21dd",
   "metadata": {
    "scrolled": false
   },
   "outputs": [
    {
     "data": {
      "text/plain": [
       "(0.9215131118635261, 0.935026581601892, 0.920982149145415)"
      ]
     },
     "execution_count": 50,
     "metadata": {},
     "output_type": "execute_result"
    }
   ],
   "source": [
    "lev2.score(Xa_train, ya_train), lev2.score(Xa_test, ya_test), cross_val_score(lev2, Xa_train, ya_train).mean()"
   ]
  },
  {
   "cell_type": "code",
   "execution_count": 56,
   "id": "65b7c2af",
   "metadata": {},
   "outputs": [
    {
     "data": {
      "image/png": "[encoded data removed]",
      "text/plain": [
       "<Figure size 792x792 with 1 Axes>"
      ]
     },
     "metadata": {
      "needs_background": "light"
     },
     "output_type": "display_data"
    }
   ],
   "source": [
    "plt.figure(figsize=(11,11))\n",
    "plt.scatter(lev2.predict(Xa_train), ya_train)\n",
    "plt.title('LR2 - Train: .921, Test: 0.935, Cross: 0.921')\n",
    "plt.savefig('../graphs/LR2_pred_scatter.jpg')"
   ]
  },
  {
   "cell_type": "markdown",
   "id": "90149124",
   "metadata": {},
   "source": [
    "These scores are scarring us"
   ]
  },
  {
   "cell_type": "code",
   "execution_count": 52,
   "id": "dcb4a298",
   "metadata": {},
   "outputs": [
    {
     "data": {
      "text/plain": [
       "0.6417903426228939"
      ]
     },
     "execution_count": 52,
     "metadata": {},
     "output_type": "execute_result"
    }
   ],
   "source": [
    "#Unseen data test data from lvl 1\n",
    "lev2.score(b.drop(columns='y'), b['y'])"
   ]
  },
  {
   "cell_type": "code",
   "execution_count": null,
   "id": "0d1bf302",
   "metadata": {},
   "outputs": [],
   "source": [
    "#(0.9009880466719563, 0.6166400989225644, 0.8996610030098859)\n",
    "#(0.8909971442563475, 0.5768477536960713, 0.888529811837276)\n",
    "#(0.8841509454257197, 0.5772424027671583, 0.8834176035984036)\n",
    "\n",
    "#(0.9118854053242108, 0.9288400370503621, 0.9114631988363131)"
   ]
  }
 ],
 "metadata": {
  "kernelspec": {
   "display_name": "Python 3",
   "language": "python",
   "name": "python3"
  },
  "language_info": {
   "codemirror_mode": {
    "name": "ipython",
    "version": 3
   },
   "file_extension": ".py",
   "mimetype": "text/x-python",
   "name": "python",
   "nbconvert_exporter": "python",
   "pygments_lexer": "ipython3",
   "version": "3.8.8"
  }
 },
 "nbformat": 4,
 "nbformat_minor": 5
}
